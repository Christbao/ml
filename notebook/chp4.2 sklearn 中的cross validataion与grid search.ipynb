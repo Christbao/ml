{
 "cells": [
  {
   "cell_type": "code",
   "execution_count": 9,
   "metadata": {
    "collapsed": false,
    "hide_input": false
   },
   "outputs": [],
   "source": [
    "import numpy as np\n",
    "import pandas as pd\n",
    "import matplotlib.pyplot as plt\n",
    "from IPython.display import display\n",
    "%matplotlib inline"
   ]
  },
  {
   "cell_type": "markdown",
   "metadata": {},
   "source": [
    "### Cross-validation"
   ]
  },
  {
   "cell_type": "code",
   "execution_count": 10,
   "metadata": {
    "collapsed": false
   },
   "outputs": [
    {
     "name": "stdout",
     "output_type": "stream",
     "text": [
      "Test set score: 0.88\n"
     ]
    }
   ],
   "source": [
    "# 为什么需要cross validation?\n",
    "from sklearn.datasets import make_blobs\n",
    "from sklearn.linear_model import LogisticRegression\n",
    "from sklearn.model_selection import train_test_split\n",
    "\n",
    "X, y = make_blobs(random_state=0)\n",
    "X_train, X_test, y_train, y_test = train_test_split(X, y, random_state=0)\n",
    "logreg = LogisticRegression().fit(X_train, y_train)\n",
    "print(\"Test set score: {:.2f}\".format(logreg.score(X_test, y_test)))"
   ]
  },
  {
   "cell_type": "code",
   "execution_count": 11,
   "metadata": {
    "collapsed": false
   },
   "outputs": [
    {
     "name": "stdout",
     "output_type": "stream",
     "text": [
      "The scores are: [0.80000000000000004, 0.83999999999999997, 0.88, 0.95999999999999996, 0.92000000000000004, 0.88, 0.88, 0.95999999999999996, 0.92000000000000004, 0.83999999999999997, 0.92000000000000004, 0.92000000000000004, 0.95999999999999996, 0.92000000000000004, 0.83999999999999997, 0.92000000000000004, 0.88, 0.83999999999999997, 0.95999999999999996, 0.83999999999999997]\n",
      "Max scores: 0.96\n",
      "Min scores: 0.8\n"
     ]
    }
   ],
   "source": [
    "scores=[]\n",
    "for i in range(0,20):\n",
    "    X_train, X_test, y_train, y_test = train_test_split(X, y)\n",
    "    logreg = LogisticRegression().fit(X_train, y_train)\n",
    "    scores.append(logreg.score(X_test, y_test))\n",
    "print(\"The scores are:\",scores)\n",
    "print(\"Max scores:\",max(scores))\n",
    "print(\"Min scores:\",min(scores))"
   ]
  },
  {
   "cell_type": "markdown",
   "metadata": {
    "collapsed": false,
    "hide_input": false
   },
   "source": [
    "![](./img/cv.png)"
   ]
  },
  {
   "cell_type": "markdown",
   "metadata": {},
   "source": [
    "#### Cross-validation in scikit-learn"
   ]
  },
  {
   "cell_type": "code",
   "execution_count": 12,
   "metadata": {
    "collapsed": false
   },
   "outputs": [
    {
     "name": "stdout",
     "output_type": "stream",
     "text": [
      "Cross-validation scores: [ 0.96078431  0.92156863  0.95833333]\n"
     ]
    }
   ],
   "source": [
    "from sklearn.model_selection import cross_val_score\n",
    "from sklearn.datasets import load_iris\n",
    "from sklearn.linear_model import LogisticRegression\n",
    "\n",
    "iris = load_iris()\n",
    "logreg = LogisticRegression()\n",
    "\n",
    "scores = cross_val_score(logreg, iris.data, iris.target) #default 3 fold\n",
    "print(\"Cross-validation scores: {}\".format(scores))"
   ]
  },
  {
   "cell_type": "code",
   "execution_count": 13,
   "metadata": {
    "collapsed": false
   },
   "outputs": [
    {
     "name": "stdout",
     "output_type": "stream",
     "text": [
      "Cross validation scores: [ 1.          0.96666667  0.93333333  0.9         1.        ]\n"
     ]
    }
   ],
   "source": [
    "scores = cross_val_score(logreg, iris.data, iris.target, cv=5)\n",
    "print(\"Cross validation scores: {}\".format(scores))"
   ]
  },
  {
   "cell_type": "code",
   "execution_count": 14,
   "metadata": {
    "collapsed": false
   },
   "outputs": [
    {
     "name": "stdout",
     "output_type": "stream",
     "text": [
      "Average cross-validation score: 0.96\n"
     ]
    }
   ],
   "source": [
    "print(\"Average cross-validation score: {:.2f}\".format(scores.mean()))"
   ]
  },
  {
   "cell_type": "markdown",
   "metadata": {},
   "source": [
    "### 分层 K-Fold cross-validation"
   ]
  },
  {
   "cell_type": "code",
   "execution_count": 15,
   "metadata": {
    "collapsed": false
   },
   "outputs": [
    {
     "name": "stdout",
     "output_type": "stream",
     "text": [
      "Iris labels:\n",
      "[0 0 0 0 0 0 0 0 0 0 0 0 0 0 0 0 0 0 0 0 0 0 0 0 0 0 0 0 0 0 0 0 0 0 0 0 0\n",
      " 0 0 0 0 0 0 0 0 0 0 0 0 0 1 1 1 1 1 1 1 1 1 1 1 1 1 1 1 1 1 1 1 1 1 1 1 1\n",
      " 1 1 1 1 1 1 1 1 1 1 1 1 1 1 1 1 1 1 1 1 1 1 1 1 1 1 2 2 2 2 2 2 2 2 2 2 2\n",
      " 2 2 2 2 2 2 2 2 2 2 2 2 2 2 2 2 2 2 2 2 2 2 2 2 2 2 2 2 2 2 2 2 2 2 2 2 2\n",
      " 2 2]\n"
     ]
    }
   ],
   "source": [
    "# issues with traditional splitting\n",
    "from sklearn.datasets import load_iris\n",
    "iris = load_iris()\n",
    "print(\"Iris labels:\\n{}\".format(iris.target))"
   ]
  },
  {
   "cell_type": "markdown",
   "metadata": {
    "collapsed": false,
    "hide_input": false
   },
   "source": [
    "![](./img/cv_stratified.png)"
   ]
  },
  {
   "cell_type": "code",
   "execution_count": 16,
   "metadata": {
    "collapsed": false
   },
   "outputs": [
    {
     "name": "stdout",
     "output_type": "stream",
     "text": [
      "[ 1.          0.96666667  0.93333333  0.9         1.        ]\n"
     ]
    }
   ],
   "source": [
    "from sklearn.model_selection import StratifiedKFold\n",
    "skf=StratifiedKFold(n_splits=5)\n",
    "scores = cross_val_score(logreg,iris.data,iris.target,cv=skf)\n",
    "print(scores)"
   ]
  },
  {
   "cell_type": "markdown",
   "metadata": {},
   "source": [
    "#### leave one out"
   ]
  },
  {
   "cell_type": "code",
   "execution_count": 17,
   "metadata": {
    "collapsed": false
   },
   "outputs": [
    {
     "name": "stdout",
     "output_type": "stream",
     "text": [
      "Number of cv iterations:  150\n",
      "Mean accuracy: 0.95\n"
     ]
    }
   ],
   "source": [
    "from sklearn.model_selection import LeaveOneOut\n",
    "loo = LeaveOneOut()\n",
    "scores = cross_val_score(logreg, iris.data, iris.target, cv=loo)\n",
    "print(\"Number of cv iterations: \", len(scores))\n",
    "print(\"Mean accuracy: {:.2f}\".format(scores.mean()))"
   ]
  },
  {
   "cell_type": "markdown",
   "metadata": {
    "collapsed": false
   },
   "source": [
    "### group k-fold CV\n",
    "\n",
    "如果组内数据存在极强关联，那么我们需要采用group k-fold CV。举例来说，如果我们继续人脸表情识别，现在有100人的表情图像数据，每个人的表情数据有多组，因为我们的目标是识别表情，如果采用分层采样那么同一个人的数据可能会出现在训练集以及测试集，对我们的分类系统而言可能会更容易。但是我们想达到的效果是在任何新数据上系统都表现好，所以更好的方式是一部分人的数据出现在训练集，另一部分只出现在测试集。此时就可以采用GroupKFold。"
   ]
  },
  {
   "cell_type": "markdown",
   "metadata": {
    "collapsed": false,
    "hide_input": false
   },
   "source": [
    "![](./img/cv_group.png)"
   ]
  },
  {
   "cell_type": "code",
   "execution_count": 18,
   "metadata": {
    "collapsed": false
   },
   "outputs": [
    {
     "name": "stdout",
     "output_type": "stream",
     "text": [
      "Cross-validation scores:\n",
      "[ 0.75        0.8         0.66666667]\n"
     ]
    }
   ],
   "source": [
    "from sklearn.model_selection import GroupKFold\n",
    "X, y = make_blobs(n_samples=12, random_state=0)\n",
    "# 前三条记录属于一组，后面依次类推\n",
    "groups = [0, 0, 0, 1, 1, 1, 1, 2, 2, 3, 3, 3]\n",
    "scores = cross_val_score(logreg, X, y, groups, cv=GroupKFold(n_splits=3))\n",
    "print(\"Cross-validation scores:\\n{}\".format(scores))"
   ]
  },
  {
   "cell_type": "markdown",
   "metadata": {},
   "source": [
    "### cross-validation参数控制"
   ]
  },
  {
   "cell_type": "code",
   "execution_count": 19,
   "metadata": {
    "collapsed": false
   },
   "outputs": [],
   "source": [
    "from sklearn.model_selection import KFold\n",
    "kfold = KFold(n_splits=5)"
   ]
  },
  {
   "cell_type": "code",
   "execution_count": 20,
   "metadata": {
    "collapsed": false
   },
   "outputs": [
    {
     "name": "stdout",
     "output_type": "stream",
     "text": [
      "Cross-validation scores:\n",
      "[ 1.          0.93333333  0.43333333  0.96666667  0.43333333]\n"
     ]
    }
   ],
   "source": [
    "print(\"Cross-validation scores:\\n{}\".format(\n",
    "      cross_val_score(logreg, iris.data, iris.target, cv=kfold)))"
   ]
  },
  {
   "cell_type": "code",
   "execution_count": 21,
   "metadata": {
    "collapsed": false
   },
   "outputs": [
    {
     "name": "stdout",
     "output_type": "stream",
     "text": [
      "Cross-validation scores:\n",
      "[ 0.  0.  0.]\n"
     ]
    }
   ],
   "source": [
    "kfold = KFold(n_splits=3)\n",
    "print(\"Cross-validation scores:\\n{}\".format(\n",
    "      cross_val_score(logreg, iris.data, iris.target, cv=kfold)))"
   ]
  },
  {
   "cell_type": "code",
   "execution_count": 22,
   "metadata": {
    "collapsed": false
   },
   "outputs": [
    {
     "name": "stdout",
     "output_type": "stream",
     "text": [
      "Cross-validation scores:\n",
      "[ 0.9   0.96  0.96]\n"
     ]
    }
   ],
   "source": [
    "kfold = KFold(n_splits=3, shuffle=True, random_state=0)\n",
    "print(\"Cross-validation scores:\\n{}\".format(\n",
    "    cross_val_score(logreg, iris.data, iris.target, cv=kfold)))"
   ]
  },
  {
   "cell_type": "markdown",
   "metadata": {},
   "source": [
    "### Grid Search"
   ]
  },
  {
   "cell_type": "markdown",
   "metadata": {},
   "source": [
    "\n",
    "#### 网格搜索Grid Search\n",
    "\n",
    "预测模型有很多Hyper-parameters，如何知道超参数的哪些组合可以达到更好的效果呢？scikit learn提供了网格搜索的算法。只需要设定需要调整的参数和参数的范围，算法会自动验证每一种参数组合的验证效果。\n",
    "\n",
    "![](./img/gridsearch.jpg)\n",
    "\n",
    "对SVM的C参数和gamma的网格搜索可视化结果如上图所示，可知{C=1.0，gamma = 0.1}时效果最好。\n",
    "#### 调参和最终模型\n",
    "\n",
    "**调参（parameter tuning）**一般先选定一个范围和变化步长，比如(0,1]，步长0.2，这样就有五个参数候选值。然后进行评估，选出最好的一个。这样选出的未必是全局最优的参数，但为了在开销和性能之间折中，只能这么做，毕竟我们无法试尽参数的所有取值。而且多个参数组合的情况是指数上升的，比方说有3个参数，每个参数评估5种取值，就需要测试多达 $5^3$ 种情形。\n",
    "\n",
    "**特别注意**，训练/验证这个过程是为了让我们**确定学习算法和算法的参数**，确定了这些之后，我们需要再利用整个源数据集进行训练，这次训练所得的模型才是最终模型，也即提交给用户，进行测试的模型。\n",
    "\n"
   ]
  },
  {
   "cell_type": "markdown",
   "metadata": {},
   "source": [
    "#### 循环遍历"
   ]
  },
  {
   "cell_type": "code",
   "execution_count": 23,
   "metadata": {
    "collapsed": false
   },
   "outputs": [
    {
     "name": "stdout",
     "output_type": "stream",
     "text": [
      "Size of training set: 112   size of test set: 38\n",
      "Best score: 0.97\n",
      "Best parameters: {'gamma': 0.001, 'C': 100}\n"
     ]
    }
   ],
   "source": [
    "# naive grid search implementation\n",
    "from sklearn.svm import SVC\n",
    "X_train, X_test, y_train, y_test = train_test_split(iris.data, iris.target,\n",
    "                                                    random_state=0)\n",
    "print(\"Size of training set: {}   size of test set: {}\".format(\n",
    "      X_train.shape[0], X_test.shape[0]))\n",
    "\n",
    "best_score = 0\n",
    "\n",
    "for gamma in [0.001, 0.01, 0.1, 1, 10, 100]:\n",
    "    for C in [0.001, 0.01, 0.1, 1, 10, 100]:\n",
    "        # for each combination of parameters\n",
    "        # train an SVC\n",
    "        svm = SVC(gamma=gamma, C=C)\n",
    "        svm.fit(X_train, y_train)\n",
    "        # evaluate the SVC on the test set \n",
    "        score = svm.score(X_test, y_test)\n",
    "        # if we got a better score, store the score and parameters\n",
    "        if score > best_score:\n",
    "            best_score = score\n",
    "            best_parameters = {'C': C, 'gamma': gamma}\n",
    "            \n",
    "print(\"Best score: {:.2f}\".format(best_score))\n",
    "print(\"Best parameters: {}\".format(best_parameters))"
   ]
  },
  {
   "cell_type": "markdown",
   "metadata": {},
   "source": [
    "overfitting的风险？我们已经使用了test set!"
   ]
  },
  {
   "cell_type": "markdown",
   "metadata": {
    "collapsed": false,
    "hide_input": false
   },
   "source": [
    "![](./img/train_validataion.png)"
   ]
  },
  {
   "cell_type": "markdown",
   "metadata": {},
   "source": [
    "采用validation set后的变化"
   ]
  },
  {
   "cell_type": "code",
   "execution_count": 46,
   "metadata": {
    "collapsed": false
   },
   "outputs": [
    {
     "name": "stdout",
     "output_type": "stream",
     "text": [
      "Size of training set: 84   size of validation set: 28   size of test set: 38\n",
      "\n",
      "Best score on validation set: 0.96\n",
      "Best parameters:  {'gamma': 0.001, 'C': 10}\n",
      "Test set score with best parameters: 0.92\n"
     ]
    }
   ],
   "source": [
    "from sklearn.svm import SVC\n",
    "# split data into train+validation set and test set\n",
    "X_trainval, X_test, y_trainval, y_test = train_test_split(\n",
    "    iris.data, iris.target, random_state=0)\n",
    "# split train+validation set into training and validation set\n",
    "X_train, X_valid, y_train, y_valid = train_test_split(\n",
    "    X_trainval, y_trainval, random_state=1)\n",
    "print(\"Size of training set: {}   size of validation set: {}   size of test set:\"\n",
    "      \" {}\\n\".format(X_train.shape[0], X_valid.shape[0], X_test.shape[0]))\n",
    "\n",
    "best_score = 0\n",
    "\n",
    "for gamma in [0.001, 0.01, 0.1, 1, 10, 100]:\n",
    "    for C in [0.001, 0.01, 0.1, 1, 10, 100]:\n",
    "        # for each combination of parameters\n",
    "        # train an SVC\n",
    "        svm = SVC(gamma=gamma, C=C)\n",
    "        svm.fit(X_train, y_train)\n",
    "        # evaluate the SVC on the test set \n",
    "        score = svm.score(X_valid, y_valid)\n",
    "        # if we got a better score, store the score and parameters\n",
    "        if score > best_score:\n",
    "            best_score = score\n",
    "            best_parameters = {'C': C, 'gamma': gamma}\n",
    "\n",
    "# rebuild a model on the combined training and validation set,\n",
    "# and evaluate it on the test set\n",
    "svm = SVC(**best_parameters)\n",
    "svm.fit(X_trainval, y_trainval)\n",
    "test_score = svm.score(X_test, y_test)\n",
    "print(\"Best score on validation set: {:.2f}\".format(best_score))\n",
    "print(\"Best parameters: \", best_parameters)\n",
    "print(\"Test set score with best parameters: {:.2f}\".format(test_score))"
   ]
  },
  {
   "cell_type": "markdown",
   "metadata": {},
   "source": [
    "#### 使用Grid-search + cross-validation"
   ]
  },
  {
   "cell_type": "code",
   "execution_count": 47,
   "metadata": {
    "collapsed": false
   },
   "outputs": [
    {
     "data": {
      "text/plain": [
       "SVC(C=100, cache_size=200, class_weight=None, coef0=0.0,\n",
       "  decision_function_shape=None, degree=3, gamma=0.01, kernel='rbf',\n",
       "  max_iter=-1, probability=False, random_state=None, shrinking=True,\n",
       "  tol=0.001, verbose=False)"
      ]
     },
     "execution_count": 47,
     "metadata": {},
     "output_type": "execute_result"
    }
   ],
   "source": [
    "for gamma in [0.001, 0.01, 0.1, 1, 10, 100]:\n",
    "    for C in [0.001, 0.01, 0.1, 1, 10, 100]:\n",
    "        # for each combination of parameters\n",
    "        # train an SVC\n",
    "        svm = SVC(gamma=gamma, C=C)\n",
    "        # perform cross-validation\n",
    "        scores = cross_val_score(svm, X_trainval, y_trainval, cv=5)\n",
    "        # compute mean cross-validation accuracy\n",
    "        score = np.mean(scores)\n",
    "        # if we got a better score, store the score and parameters\n",
    "        if score > best_score:\n",
    "            best_score = score\n",
    "            best_parameters = {'C': C, 'gamma': gamma}\n",
    "# rebuild a model on the combined training and validation set\n",
    "svm = SVC(**best_parameters)\n",
    "svm.fit(X_trainval, y_trainval)"
   ]
  },
  {
   "cell_type": "markdown",
   "metadata": {
    "collapsed": false
   },
   "source": [
    "![](./img/cv_process.png)"
   ]
  },
  {
   "cell_type": "markdown",
   "metadata": {},
   "source": [
    "sklearn里面提供了将grid search和CV集合到一起的功能GridSearchCV"
   ]
  },
  {
   "cell_type": "code",
   "execution_count": 48,
   "metadata": {
    "collapsed": false
   },
   "outputs": [
    {
     "name": "stdout",
     "output_type": "stream",
     "text": [
      "Parameter grid:\n",
      "{'gamma': [0.001, 0.01, 0.1, 1, 10, 100], 'C': [0.001, 0.01, 0.1, 1, 10, 100]}\n"
     ]
    }
   ],
   "source": [
    "param_grid = {'C': [0.001, 0.01, 0.1, 1, 10, 100],\n",
    "              'gamma': [0.001, 0.01, 0.1, 1, 10, 100]}\n",
    "print(\"Parameter grid:\\n{}\".format(param_grid))"
   ]
  },
  {
   "cell_type": "code",
   "execution_count": 49,
   "metadata": {
    "collapsed": true
   },
   "outputs": [],
   "source": [
    "from sklearn.model_selection import GridSearchCV\n",
    "from sklearn.svm import SVC\n",
    "grid_search = GridSearchCV(SVC(), param_grid, cv=5)"
   ]
  },
  {
   "cell_type": "code",
   "execution_count": 50,
   "metadata": {
    "collapsed": true
   },
   "outputs": [],
   "source": [
    "X_train, X_test, y_train, y_test = train_test_split(iris.data, iris.target,\n",
    "                                                    random_state=0)"
   ]
  },
  {
   "cell_type": "code",
   "execution_count": 51,
   "metadata": {
    "collapsed": false
   },
   "outputs": [
    {
     "data": {
      "text/plain": [
       "GridSearchCV(cv=5, error_score='raise',\n",
       "       estimator=SVC(C=1.0, cache_size=200, class_weight=None, coef0=0.0,\n",
       "  decision_function_shape=None, degree=3, gamma='auto', kernel='rbf',\n",
       "  max_iter=-1, probability=False, random_state=None, shrinking=True,\n",
       "  tol=0.001, verbose=False),\n",
       "       fit_params={}, iid=True, n_jobs=1,\n",
       "       param_grid={'gamma': [0.001, 0.01, 0.1, 1, 10, 100], 'C': [0.001, 0.01, 0.1, 1, 10, 100]},\n",
       "       pre_dispatch='2*n_jobs', refit=True, return_train_score=True,\n",
       "       scoring=None, verbose=0)"
      ]
     },
     "execution_count": 51,
     "metadata": {},
     "output_type": "execute_result"
    }
   ],
   "source": [
    "grid_search.fit(X_train, y_train)"
   ]
  },
  {
   "cell_type": "code",
   "execution_count": 52,
   "metadata": {
    "collapsed": false
   },
   "outputs": [
    {
     "name": "stdout",
     "output_type": "stream",
     "text": [
      "Test set score: 0.97\n"
     ]
    }
   ],
   "source": [
    "print(\"Test set score: {:.2f}\".format(grid_search.score(X_test, y_test)))"
   ]
  },
  {
   "cell_type": "code",
   "execution_count": 53,
   "metadata": {
    "collapsed": false
   },
   "outputs": [
    {
     "name": "stdout",
     "output_type": "stream",
     "text": [
      "Best parameters: {'gamma': 0.01, 'C': 100}\n",
      "Best cross-validation score: 0.97\n"
     ]
    }
   ],
   "source": [
    "print(\"Best parameters: {}\".format(grid_search.best_params_))\n",
    "print(\"Best cross-validation score: {:.2f}\".format(grid_search.best_score_))"
   ]
  },
  {
   "cell_type": "code",
   "execution_count": 32,
   "metadata": {
    "collapsed": false
   },
   "outputs": [
    {
     "name": "stdout",
     "output_type": "stream",
     "text": [
      "Best estimator:\n",
      "SVC(C=100, cache_size=200, class_weight=None, coef0=0.0,\n",
      "  decision_function_shape=None, degree=3, gamma=0.01, kernel='rbf',\n",
      "  max_iter=-1, probability=False, random_state=None, shrinking=True,\n",
      "  tol=0.001, verbose=False)\n"
     ]
    }
   ],
   "source": [
    "print(\"Best estimator:\\n{}\".format(grid_search.best_estimator_))"
   ]
  },
  {
   "cell_type": "code",
   "execution_count": 54,
   "metadata": {
    "collapsed": false,
    "hide_input": false
   },
   "outputs": [
    {
     "data": {
      "text/plain": [
       "<matplotlib.legend.Legend at 0xcf96198>"
      ]
     },
     "execution_count": 54,
     "metadata": {},
     "output_type": "execute_result"
    },
    {
     "data": {
      "image/png": "[encoded data removed]",
      "text/plain": [
       "<matplotlib.figure.Figure at 0xcead358>"
      ]
     },
     "metadata": {},
     "output_type": "display_data"
    }
   ],
   "source": [
    "from sklearn.model_selection import GridSearchCV\n",
    "#mglearn.plots.plot_cross_val_selection()\n",
    "iris = load_iris()\n",
    "X_trainval, X_test, y_trainval, y_test = train_test_split(iris.data,\n",
    "                                                              iris.target,\n",
    "                                                              random_state=0)\n",
    "\n",
    "param_grid = {'C': [0.001, 0.01, 0.1, 1, 10, 100],\n",
    "              'gamma': [0.001, 0.01, 0.1, 1, 10, 100]}\n",
    "grid_search = GridSearchCV(SVC(), param_grid, cv=5)\n",
    "grid_search.fit(X_trainval, y_trainval)\n",
    "results = pd.DataFrame(grid_search.cv_results_)[15:]\n",
    "best = np.argmax(results.mean_test_score.values)\n",
    "plt.figure(figsize=(10, 3))\n",
    "plt.xlim(-1, len(results))\n",
    "plt.ylim(0, 1.1)\n",
    "for i, (_, row) in enumerate(results.iterrows()):\n",
    "    scores = row[['split%d_test_score' % i for i in range(5)]]\n",
    "    marker_cv, = plt.plot([i] * 5, scores, '^', c='gray', markersize=5, alpha=.5)\n",
    "    marker_mean, = plt.plot(i, row.mean_test_score, 'v', c='none', alpha=1, markersize=10)\n",
    "    if i == best:\n",
    "        marker_best, = plt.plot(i, row.mean_test_score, 'o', c='red', fillstyle=\"none\",\n",
    "                                alpha=1, markersize=20, markeredgewidth=3)\n",
    "    plt.xticks(range(len(results)), [str(x).strip(\"{}\").replace(\"'\", \"\")\n",
    "                                 for x in grid_search.cv_results_['params']], rotation=90)\n",
    "plt.ylabel(\"Validation accuracy\")\n",
    "plt.xlabel(\"Parameter settings\")\n",
    "plt.legend([marker_cv, marker_mean, marker_best],\n",
    "           [\"cv accuracy\", \"mean accuracy\", \"best parameter setting\"], loc=(1.05, .4))\n"
   ]
  },
  {
   "cell_type": "markdown",
   "metadata": {},
   "source": [
    "#### CV结果分析"
   ]
  },
  {
   "cell_type": "code",
   "execution_count": 55,
   "metadata": {
    "collapsed": false
   },
   "outputs": [
    {
     "data": {
      "text/html": [
       "<div>\n",
       "<table border=\"1\" class=\"dataframe\">\n",
       "  <thead>\n",
       "    <tr style=\"text-align: right;\">\n",
       "      <th></th>\n",
       "      <th>mean_fit_time</th>\n",
       "      <th>mean_score_time</th>\n",
       "      <th>mean_test_score</th>\n",
       "      <th>mean_train_score</th>\n",
       "      <th>param_C</th>\n",
       "      <th>param_gamma</th>\n",
       "      <th>params</th>\n",
       "      <th>rank_test_score</th>\n",
       "      <th>split0_test_score</th>\n",
       "      <th>split0_train_score</th>\n",
       "      <th>...</th>\n",
       "      <th>split2_test_score</th>\n",
       "      <th>split2_train_score</th>\n",
       "      <th>split3_test_score</th>\n",
       "      <th>split3_train_score</th>\n",
       "      <th>split4_test_score</th>\n",
       "      <th>split4_train_score</th>\n",
       "      <th>std_fit_time</th>\n",
       "      <th>std_score_time</th>\n",
       "      <th>std_test_score</th>\n",
       "      <th>std_train_score</th>\n",
       "    </tr>\n",
       "  </thead>\n",
       "  <tbody>\n",
       "    <tr>\n",
       "      <th>0</th>\n",
       "      <td>0.000</td>\n",
       "      <td>0.0</td>\n",
       "      <td>0.366071</td>\n",
       "      <td>0.366079</td>\n",
       "      <td>0.001</td>\n",
       "      <td>0.001</td>\n",
       "      <td>{'gamma': 0.001, 'C': 0.001}</td>\n",
       "      <td>22</td>\n",
       "      <td>0.375</td>\n",
       "      <td>0.363636</td>\n",
       "      <td>...</td>\n",
       "      <td>0.363636</td>\n",
       "      <td>0.366667</td>\n",
       "      <td>0.363636</td>\n",
       "      <td>0.366667</td>\n",
       "      <td>0.380952</td>\n",
       "      <td>0.362637</td>\n",
       "      <td>0.000</td>\n",
       "      <td>0.0</td>\n",
       "      <td>0.011371</td>\n",
       "      <td>0.002852</td>\n",
       "    </tr>\n",
       "    <tr>\n",
       "      <th>1</th>\n",
       "      <td>0.002</td>\n",
       "      <td>0.0</td>\n",
       "      <td>0.366071</td>\n",
       "      <td>0.366079</td>\n",
       "      <td>0.001</td>\n",
       "      <td>0.01</td>\n",
       "      <td>{'gamma': 0.01, 'C': 0.001}</td>\n",
       "      <td>22</td>\n",
       "      <td>0.375</td>\n",
       "      <td>0.363636</td>\n",
       "      <td>...</td>\n",
       "      <td>0.363636</td>\n",
       "      <td>0.366667</td>\n",
       "      <td>0.363636</td>\n",
       "      <td>0.366667</td>\n",
       "      <td>0.380952</td>\n",
       "      <td>0.362637</td>\n",
       "      <td>0.004</td>\n",
       "      <td>0.0</td>\n",
       "      <td>0.011371</td>\n",
       "      <td>0.002852</td>\n",
       "    </tr>\n",
       "    <tr>\n",
       "      <th>2</th>\n",
       "      <td>0.002</td>\n",
       "      <td>0.0</td>\n",
       "      <td>0.366071</td>\n",
       "      <td>0.366079</td>\n",
       "      <td>0.001</td>\n",
       "      <td>0.1</td>\n",
       "      <td>{'gamma': 0.1, 'C': 0.001}</td>\n",
       "      <td>22</td>\n",
       "      <td>0.375</td>\n",
       "      <td>0.363636</td>\n",
       "      <td>...</td>\n",
       "      <td>0.363636</td>\n",
       "      <td>0.366667</td>\n",
       "      <td>0.363636</td>\n",
       "      <td>0.366667</td>\n",
       "      <td>0.380952</td>\n",
       "      <td>0.362637</td>\n",
       "      <td>0.004</td>\n",
       "      <td>0.0</td>\n",
       "      <td>0.011371</td>\n",
       "      <td>0.002852</td>\n",
       "    </tr>\n",
       "    <tr>\n",
       "      <th>3</th>\n",
       "      <td>0.000</td>\n",
       "      <td>0.0</td>\n",
       "      <td>0.366071</td>\n",
       "      <td>0.366079</td>\n",
       "      <td>0.001</td>\n",
       "      <td>1</td>\n",
       "      <td>{'gamma': 1, 'C': 0.001}</td>\n",
       "      <td>22</td>\n",
       "      <td>0.375</td>\n",
       "      <td>0.363636</td>\n",
       "      <td>...</td>\n",
       "      <td>0.363636</td>\n",
       "      <td>0.366667</td>\n",
       "      <td>0.363636</td>\n",
       "      <td>0.366667</td>\n",
       "      <td>0.380952</td>\n",
       "      <td>0.362637</td>\n",
       "      <td>0.000</td>\n",
       "      <td>0.0</td>\n",
       "      <td>0.011371</td>\n",
       "      <td>0.002852</td>\n",
       "    </tr>\n",
       "    <tr>\n",
       "      <th>4</th>\n",
       "      <td>0.000</td>\n",
       "      <td>0.0</td>\n",
       "      <td>0.366071</td>\n",
       "      <td>0.366079</td>\n",
       "      <td>0.001</td>\n",
       "      <td>10</td>\n",
       "      <td>{'gamma': 10, 'C': 0.001}</td>\n",
       "      <td>22</td>\n",
       "      <td>0.375</td>\n",
       "      <td>0.363636</td>\n",
       "      <td>...</td>\n",
       "      <td>0.363636</td>\n",
       "      <td>0.366667</td>\n",
       "      <td>0.363636</td>\n",
       "      <td>0.366667</td>\n",
       "      <td>0.380952</td>\n",
       "      <td>0.362637</td>\n",
       "      <td>0.000</td>\n",
       "      <td>0.0</td>\n",
       "      <td>0.011371</td>\n",
       "      <td>0.002852</td>\n",
       "    </tr>\n",
       "  </tbody>\n",
       "</table>\n",
       "<p>5 rows × 22 columns</p>\n",
       "</div>"
      ],
      "text/plain": [
       "   mean_fit_time  mean_score_time  mean_test_score  mean_train_score param_C  \\\n",
       "0          0.000              0.0         0.366071          0.366079   0.001   \n",
       "1          0.002              0.0         0.366071          0.366079   0.001   \n",
       "2          0.002              0.0         0.366071          0.366079   0.001   \n",
       "3          0.000              0.0         0.366071          0.366079   0.001   \n",
       "4          0.000              0.0         0.366071          0.366079   0.001   \n",
       "\n",
       "  param_gamma                        params  rank_test_score  \\\n",
       "0       0.001  {'gamma': 0.001, 'C': 0.001}               22   \n",
       "1        0.01   {'gamma': 0.01, 'C': 0.001}               22   \n",
       "2         0.1    {'gamma': 0.1, 'C': 0.001}               22   \n",
       "3           1      {'gamma': 1, 'C': 0.001}               22   \n",
       "4          10     {'gamma': 10, 'C': 0.001}               22   \n",
       "\n",
       "   split0_test_score  split0_train_score       ...         split2_test_score  \\\n",
       "0              0.375            0.363636       ...                  0.363636   \n",
       "1              0.375            0.363636       ...                  0.363636   \n",
       "2              0.375            0.363636       ...                  0.363636   \n",
       "3              0.375            0.363636       ...                  0.363636   \n",
       "4              0.375            0.363636       ...                  0.363636   \n",
       "\n",
       "   split2_train_score  split3_test_score  split3_train_score  \\\n",
       "0            0.366667           0.363636            0.366667   \n",
       "1            0.366667           0.363636            0.366667   \n",
       "2            0.366667           0.363636            0.366667   \n",
       "3            0.366667           0.363636            0.366667   \n",
       "4            0.366667           0.363636            0.366667   \n",
       "\n",
       "   split4_test_score  split4_train_score  std_fit_time  std_score_time  \\\n",
       "0           0.380952            0.362637         0.000             0.0   \n",
       "1           0.380952            0.362637         0.004             0.0   \n",
       "2           0.380952            0.362637         0.004             0.0   \n",
       "3           0.380952            0.362637         0.000             0.0   \n",
       "4           0.380952            0.362637         0.000             0.0   \n",
       "\n",
       "   std_test_score  std_train_score  \n",
       "0        0.011371         0.002852  \n",
       "1        0.011371         0.002852  \n",
       "2        0.011371         0.002852  \n",
       "3        0.011371         0.002852  \n",
       "4        0.011371         0.002852  \n",
       "\n",
       "[5 rows x 22 columns]"
      ]
     },
     "metadata": {},
     "output_type": "display_data"
    }
   ],
   "source": [
    "\n",
    "results = pd.DataFrame(grid_search.cv_results_)\n",
    "# Show the first 5 rows\n",
    "display(results.head())"
   ]
  },
  {
   "cell_type": "code",
   "execution_count": 56,
   "metadata": {
    "collapsed": true
   },
   "outputs": [],
   "source": [
    "def heatmap(values, xlabel, ylabel, xticklabels, yticklabels, cmap=None,\n",
    "            vmin=None, vmax=None, ax=None, fmt=\"%0.2f\"):\n",
    "    if ax is None:\n",
    "        ax = plt.gca()\n",
    "    # plot the mean cross-validation scores\n",
    "    img = ax.pcolor(values, cmap=cmap, vmin=None, vmax=None)\n",
    "    img.update_scalarmappable()\n",
    "    ax.set_xlabel(xlabel)\n",
    "    ax.set_ylabel(ylabel)\n",
    "    ax.set_xticks(np.arange(len(xticklabels)) + .5)\n",
    "    ax.set_yticks(np.arange(len(yticklabels)) + .5)\n",
    "    ax.set_xticklabels(xticklabels)\n",
    "    ax.set_yticklabels(yticklabels)\n",
    "    ax.set_aspect(1)\n",
    "\n",
    "    for p, color, value in zip(img.get_paths(), img.get_facecolors(), img.get_array()):\n",
    "        x, y = p.vertices[:-2, :].mean(0)\n",
    "        if np.mean(color[:3]) > 0.5:\n",
    "            c = 'k'\n",
    "        else:\n",
    "            c = 'w'\n",
    "        ax.text(x, y, fmt % value, color=c, ha=\"center\", va=\"center\")\n",
    "    return img"
   ]
  },
  {
   "cell_type": "code",
   "execution_count": 57,
   "metadata": {
    "collapsed": false
   },
   "outputs": [
    {
     "data": {
      "text/plain": [
       "<matplotlib.collections.PolyCollection at 0xd134dd8>"
      ]
     },
     "execution_count": 57,
     "metadata": {},
     "output_type": "execute_result"
    },
    {
     "data": {
      "image/png": "[encoded data removed]",
      "text/plain": [
       "<matplotlib.figure.Figure at 0xbc899e8>"
      ]
     },
     "metadata": {},
     "output_type": "display_data"
    }
   ],
   "source": [
    "scores = np.array(results.mean_test_score).reshape(6, 6)\n",
    "\n",
    "# plot the mean cross-validation score\n",
    "heatmap(scores, xlabel='gamma', xticklabels=param_grid['gamma'],\n",
    "                      ylabel='C', yticklabels=param_grid['C'], cmap=\"viridis\")"
   ]
  },
  {
   "cell_type": "code",
   "execution_count": 59,
   "metadata": {
    "collapsed": false,
    "scrolled": true
   },
   "outputs": [
    {
     "data": {
      "text/plain": [
       "<matplotlib.colorbar.Colorbar at 0xd3f30b8>"
      ]
     },
     "execution_count": 59,
     "metadata": {},
     "output_type": "execute_result"
    },
    {
     "data": {
      "image/png": "[encoded data removed]",
      "text/plain": [
       "<matplotlib.figure.Figure at 0xd3f3358>"
      ]
     },
     "metadata": {},
     "output_type": "display_data"
    }
   ],
   "source": [
    "fig, axes = plt.subplots(1, 3, figsize=(13, 5))\n",
    "\n",
    "param_grid_linear = {'C': np.linspace(1, 2, 6),\n",
    "                     'gamma':  np.linspace(1, 2, 6)}\n",
    "\n",
    "param_grid_one_log = {'C': np.linspace(1, 2, 6),\n",
    "                     'gamma':  np.logspace(-3, 2, 6)}\n",
    "\n",
    "param_grid_range = {'C': np.logspace(-3, 2, 6),\n",
    "                     'gamma':  np.logspace(-7, -2, 6)}\n",
    "\n",
    "for param_grid, ax in zip([param_grid_linear, param_grid_one_log,\n",
    "                           param_grid_range], axes):\n",
    "    grid_search = GridSearchCV(SVC(), param_grid, cv=5)\n",
    "    grid_search.fit(X_train, y_train)\n",
    "    scores = grid_search.cv_results_['mean_test_score'].reshape(6, 6)\n",
    "\n",
    "    # plot the mean cross-validation scores\n",
    "    scores_image = heatmap(\n",
    "        scores, xlabel='gamma', ylabel='C', xticklabels=param_grid['gamma'],\n",
    "        yticklabels=param_grid['C'], cmap=\"viridis\", ax=ax)\n",
    "    \n",
    "plt.colorbar(scores_image, ax=axes.tolist())"
   ]
  },
  {
   "cell_type": "code",
   "execution_count": 61,
   "metadata": {
    "collapsed": false
   },
   "outputs": [
    {
     "name": "stdout",
     "output_type": "stream",
     "text": [
      "List of grids:\n",
      "[{'gamma': [0.001, 0.01, 0.1, 1, 10, 100], 'C': [0.001, 0.01, 0.1, 1, 10, 100], 'kernel': ['rbf']}, {'C': [0.001, 0.01, 0.1, 1, 10, 100], 'kernel': ['linear']}]\n"
     ]
    }
   ],
   "source": [
    "param_grid = [{'kernel': ['rbf'],\n",
    "               'C': [0.001, 0.01, 0.1, 1, 10, 100],\n",
    "               'gamma': [0.001, 0.01, 0.1, 1, 10, 100]},\n",
    "              {'kernel': ['linear'],\n",
    "               'C': [0.001, 0.01, 0.1, 1, 10, 100]}]\n",
    "print(\"List of grids:\\n{}\".format(param_grid))"
   ]
  },
  {
   "cell_type": "code",
   "execution_count": 62,
   "metadata": {
    "collapsed": false
   },
   "outputs": [
    {
     "name": "stdout",
     "output_type": "stream",
     "text": [
      "Best parameters: {'gamma': 0.01, 'C': 100, 'kernel': 'rbf'}\n",
      "Best cross-validation score: 0.97\n"
     ]
    }
   ],
   "source": [
    "grid_search = GridSearchCV(SVC(), param_grid, cv=5)\n",
    "grid_search.fit(X_train, y_train)\n",
    "print(\"Best parameters: {}\".format(grid_search.best_params_))\n",
    "print(\"Best cross-validation score: {:.2f}\".format(grid_search.best_score_))"
   ]
  },
  {
   "cell_type": "code",
   "execution_count": 38,
   "metadata": {
    "collapsed": false
   },
   "outputs": [
    {
     "data": {
      "text/html": [
       "<div>\n",
       "<table border=\"1\" class=\"dataframe\">\n",
       "  <thead>\n",
       "    <tr style=\"text-align: right;\">\n",
       "      <th></th>\n",
       "      <th>0</th>\n",
       "      <th>1</th>\n",
       "      <th>2</th>\n",
       "      <th>3</th>\n",
       "      <th>4</th>\n",
       "      <th>5</th>\n",
       "      <th>6</th>\n",
       "      <th>7</th>\n",
       "      <th>8</th>\n",
       "      <th>9</th>\n",
       "      <th>...</th>\n",
       "      <th>26</th>\n",
       "      <th>27</th>\n",
       "      <th>28</th>\n",
       "      <th>29</th>\n",
       "      <th>30</th>\n",
       "      <th>31</th>\n",
       "      <th>32</th>\n",
       "      <th>33</th>\n",
       "      <th>34</th>\n",
       "      <th>35</th>\n",
       "    </tr>\n",
       "  </thead>\n",
       "  <tbody>\n",
       "    <tr>\n",
       "      <th>mean_fit_time</th>\n",
       "      <td>0</td>\n",
       "      <td>0</td>\n",
       "      <td>0</td>\n",
       "      <td>0</td>\n",
       "      <td>0.002</td>\n",
       "      <td>0</td>\n",
       "      <td>0</td>\n",
       "      <td>0</td>\n",
       "      <td>0.002</td>\n",
       "      <td>0</td>\n",
       "      <td>...</td>\n",
       "      <td>0</td>\n",
       "      <td>0</td>\n",
       "      <td>0</td>\n",
       "      <td>0</td>\n",
       "      <td>0</td>\n",
       "      <td>0</td>\n",
       "      <td>0</td>\n",
       "      <td>0</td>\n",
       "      <td>0</td>\n",
       "      <td>0</td>\n",
       "    </tr>\n",
       "    <tr>\n",
       "      <th>mean_score_time</th>\n",
       "      <td>0</td>\n",
       "      <td>0</td>\n",
       "      <td>0</td>\n",
       "      <td>0</td>\n",
       "      <td>0</td>\n",
       "      <td>0</td>\n",
       "      <td>0</td>\n",
       "      <td>0</td>\n",
       "      <td>0</td>\n",
       "      <td>0</td>\n",
       "      <td>...</td>\n",
       "      <td>0.002</td>\n",
       "      <td>0</td>\n",
       "      <td>0</td>\n",
       "      <td>0</td>\n",
       "      <td>0.002</td>\n",
       "      <td>0</td>\n",
       "      <td>0</td>\n",
       "      <td>0</td>\n",
       "      <td>0.002</td>\n",
       "      <td>0</td>\n",
       "    </tr>\n",
       "    <tr>\n",
       "      <th>mean_test_score</th>\n",
       "      <td>0.946429</td>\n",
       "      <td>0.946429</td>\n",
       "      <td>0.946429</td>\n",
       "      <td>0.946429</td>\n",
       "      <td>0.946429</td>\n",
       "      <td>0.946429</td>\n",
       "      <td>0.946429</td>\n",
       "      <td>0.946429</td>\n",
       "      <td>0.946429</td>\n",
       "      <td>0.946429</td>\n",
       "      <td>...</td>\n",
       "      <td>0.946429</td>\n",
       "      <td>0.946429</td>\n",
       "      <td>0.946429</td>\n",
       "      <td>0.946429</td>\n",
       "      <td>0.946429</td>\n",
       "      <td>0.946429</td>\n",
       "      <td>0.946429</td>\n",
       "      <td>0.946429</td>\n",
       "      <td>0.946429</td>\n",
       "      <td>0.946429</td>\n",
       "    </tr>\n",
       "    <tr>\n",
       "      <th>mean_train_score</th>\n",
       "      <td>0.984393</td>\n",
       "      <td>0.984393</td>\n",
       "      <td>0.984393</td>\n",
       "      <td>0.988813</td>\n",
       "      <td>0.988813</td>\n",
       "      <td>0.988813</td>\n",
       "      <td>0.986591</td>\n",
       "      <td>0.986591</td>\n",
       "      <td>0.986591</td>\n",
       "      <td>0.988813</td>\n",
       "      <td>...</td>\n",
       "      <td>0.988813</td>\n",
       "      <td>0.988813</td>\n",
       "      <td>0.988813</td>\n",
       "      <td>0.988813</td>\n",
       "      <td>0.986591</td>\n",
       "      <td>0.986591</td>\n",
       "      <td>0.988813</td>\n",
       "      <td>0.988813</td>\n",
       "      <td>0.988813</td>\n",
       "      <td>0.99106</td>\n",
       "    </tr>\n",
       "    <tr>\n",
       "      <th>param_C</th>\n",
       "      <td>1</td>\n",
       "      <td>1</td>\n",
       "      <td>1</td>\n",
       "      <td>1</td>\n",
       "      <td>1</td>\n",
       "      <td>1</td>\n",
       "      <td>1.2</td>\n",
       "      <td>1.2</td>\n",
       "      <td>1.2</td>\n",
       "      <td>1.2</td>\n",
       "      <td>...</td>\n",
       "      <td>1.8</td>\n",
       "      <td>1.8</td>\n",
       "      <td>1.8</td>\n",
       "      <td>1.8</td>\n",
       "      <td>2</td>\n",
       "      <td>2</td>\n",
       "      <td>2</td>\n",
       "      <td>2</td>\n",
       "      <td>2</td>\n",
       "      <td>2</td>\n",
       "    </tr>\n",
       "    <tr>\n",
       "      <th>param_gamma</th>\n",
       "      <td>1</td>\n",
       "      <td>1.2</td>\n",
       "      <td>1.4</td>\n",
       "      <td>1.6</td>\n",
       "      <td>1.8</td>\n",
       "      <td>2</td>\n",
       "      <td>1</td>\n",
       "      <td>1.2</td>\n",
       "      <td>1.4</td>\n",
       "      <td>1.6</td>\n",
       "      <td>...</td>\n",
       "      <td>1.4</td>\n",
       "      <td>1.6</td>\n",
       "      <td>1.8</td>\n",
       "      <td>2</td>\n",
       "      <td>1</td>\n",
       "      <td>1.2</td>\n",
       "      <td>1.4</td>\n",
       "      <td>1.6</td>\n",
       "      <td>1.8</td>\n",
       "      <td>2</td>\n",
       "    </tr>\n",
       "    <tr>\n",
       "      <th>params</th>\n",
       "      <td>{'gamma': 1.0, 'C': 1.0}</td>\n",
       "      <td>{'gamma': 1.2, 'C': 1.0}</td>\n",
       "      <td>{'gamma': 1.4, 'C': 1.0}</td>\n",
       "      <td>{'gamma': 1.6, 'C': 1.0}</td>\n",
       "      <td>{'gamma': 1.8, 'C': 1.0}</td>\n",
       "      <td>{'gamma': 2.0, 'C': 1.0}</td>\n",
       "      <td>{'gamma': 1.0, 'C': 1.2}</td>\n",
       "      <td>{'gamma': 1.2, 'C': 1.2}</td>\n",
       "      <td>{'gamma': 1.4, 'C': 1.2}</td>\n",
       "      <td>{'gamma': 1.6, 'C': 1.2}</td>\n",
       "      <td>...</td>\n",
       "      <td>{'gamma': 1.4, 'C': 1.8}</td>\n",
       "      <td>{'gamma': 1.6, 'C': 1.8}</td>\n",
       "      <td>{'gamma': 1.8, 'C': 1.8}</td>\n",
       "      <td>{'gamma': 2.0, 'C': 1.8}</td>\n",
       "      <td>{'gamma': 1.0, 'C': 2.0}</td>\n",
       "      <td>{'gamma': 1.2, 'C': 2.0}</td>\n",
       "      <td>{'gamma': 1.4, 'C': 2.0}</td>\n",
       "      <td>{'gamma': 1.6, 'C': 2.0}</td>\n",
       "      <td>{'gamma': 1.8, 'C': 2.0}</td>\n",
       "      <td>{'gamma': 2.0, 'C': 2.0}</td>\n",
       "    </tr>\n",
       "    <tr>\n",
       "      <th>rank_test_score</th>\n",
       "      <td>1</td>\n",
       "      <td>1</td>\n",
       "      <td>1</td>\n",
       "      <td>1</td>\n",
       "      <td>1</td>\n",
       "      <td>1</td>\n",
       "      <td>1</td>\n",
       "      <td>1</td>\n",
       "      <td>1</td>\n",
       "      <td>1</td>\n",
       "      <td>...</td>\n",
       "      <td>1</td>\n",
       "      <td>1</td>\n",
       "      <td>1</td>\n",
       "      <td>1</td>\n",
       "      <td>1</td>\n",
       "      <td>1</td>\n",
       "      <td>1</td>\n",
       "      <td>1</td>\n",
       "      <td>1</td>\n",
       "      <td>1</td>\n",
       "    </tr>\n",
       "    <tr>\n",
       "      <th>split0_test_score</th>\n",
       "      <td>0.916667</td>\n",
       "      <td>0.916667</td>\n",
       "      <td>0.916667</td>\n",
       "      <td>0.916667</td>\n",
       "      <td>0.916667</td>\n",
       "      <td>0.916667</td>\n",
       "      <td>0.916667</td>\n",
       "      <td>0.916667</td>\n",
       "      <td>0.916667</td>\n",
       "      <td>0.916667</td>\n",
       "      <td>...</td>\n",
       "      <td>0.916667</td>\n",
       "      <td>0.916667</td>\n",
       "      <td>0.916667</td>\n",
       "      <td>0.916667</td>\n",
       "      <td>0.916667</td>\n",
       "      <td>0.916667</td>\n",
       "      <td>0.916667</td>\n",
       "      <td>0.916667</td>\n",
       "      <td>0.916667</td>\n",
       "      <td>0.916667</td>\n",
       "    </tr>\n",
       "    <tr>\n",
       "      <th>split0_train_score</th>\n",
       "      <td>0.988636</td>\n",
       "      <td>0.988636</td>\n",
       "      <td>0.988636</td>\n",
       "      <td>0.988636</td>\n",
       "      <td>0.988636</td>\n",
       "      <td>0.988636</td>\n",
       "      <td>0.988636</td>\n",
       "      <td>0.988636</td>\n",
       "      <td>0.988636</td>\n",
       "      <td>0.988636</td>\n",
       "      <td>...</td>\n",
       "      <td>0.988636</td>\n",
       "      <td>0.988636</td>\n",
       "      <td>0.988636</td>\n",
       "      <td>0.988636</td>\n",
       "      <td>0.988636</td>\n",
       "      <td>0.988636</td>\n",
       "      <td>0.988636</td>\n",
       "      <td>0.988636</td>\n",
       "      <td>0.988636</td>\n",
       "      <td>0.988636</td>\n",
       "    </tr>\n",
       "    <tr>\n",
       "      <th>split1_test_score</th>\n",
       "      <td>0.956522</td>\n",
       "      <td>0.956522</td>\n",
       "      <td>0.956522</td>\n",
       "      <td>0.956522</td>\n",
       "      <td>0.956522</td>\n",
       "      <td>0.956522</td>\n",
       "      <td>0.956522</td>\n",
       "      <td>0.956522</td>\n",
       "      <td>0.956522</td>\n",
       "      <td>0.956522</td>\n",
       "      <td>...</td>\n",
       "      <td>0.956522</td>\n",
       "      <td>0.956522</td>\n",
       "      <td>0.956522</td>\n",
       "      <td>0.956522</td>\n",
       "      <td>0.956522</td>\n",
       "      <td>0.956522</td>\n",
       "      <td>0.956522</td>\n",
       "      <td>0.956522</td>\n",
       "      <td>0.956522</td>\n",
       "      <td>0.956522</td>\n",
       "    </tr>\n",
       "    <tr>\n",
       "      <th>split1_train_score</th>\n",
       "      <td>0.977528</td>\n",
       "      <td>0.977528</td>\n",
       "      <td>0.977528</td>\n",
       "      <td>0.977528</td>\n",
       "      <td>0.977528</td>\n",
       "      <td>0.977528</td>\n",
       "      <td>0.977528</td>\n",
       "      <td>0.977528</td>\n",
       "      <td>0.977528</td>\n",
       "      <td>0.977528</td>\n",
       "      <td>...</td>\n",
       "      <td>0.977528</td>\n",
       "      <td>0.977528</td>\n",
       "      <td>0.977528</td>\n",
       "      <td>0.977528</td>\n",
       "      <td>0.977528</td>\n",
       "      <td>0.977528</td>\n",
       "      <td>0.977528</td>\n",
       "      <td>0.977528</td>\n",
       "      <td>0.977528</td>\n",
       "      <td>0.988764</td>\n",
       "    </tr>\n",
       "    <tr>\n",
       "      <th>split2_test_score</th>\n",
       "      <td>1</td>\n",
       "      <td>1</td>\n",
       "      <td>1</td>\n",
       "      <td>1</td>\n",
       "      <td>1</td>\n",
       "      <td>1</td>\n",
       "      <td>1</td>\n",
       "      <td>1</td>\n",
       "      <td>1</td>\n",
       "      <td>1</td>\n",
       "      <td>...</td>\n",
       "      <td>1</td>\n",
       "      <td>1</td>\n",
       "      <td>1</td>\n",
       "      <td>1</td>\n",
       "      <td>1</td>\n",
       "      <td>1</td>\n",
       "      <td>1</td>\n",
       "      <td>1</td>\n",
       "      <td>1</td>\n",
       "      <td>1</td>\n",
       "    </tr>\n",
       "    <tr>\n",
       "      <th>split2_train_score</th>\n",
       "      <td>0.977778</td>\n",
       "      <td>0.977778</td>\n",
       "      <td>0.977778</td>\n",
       "      <td>0.988889</td>\n",
       "      <td>0.988889</td>\n",
       "      <td>0.988889</td>\n",
       "      <td>0.977778</td>\n",
       "      <td>0.977778</td>\n",
       "      <td>0.977778</td>\n",
       "      <td>0.988889</td>\n",
       "      <td>...</td>\n",
       "      <td>0.988889</td>\n",
       "      <td>0.988889</td>\n",
       "      <td>0.988889</td>\n",
       "      <td>0.988889</td>\n",
       "      <td>0.977778</td>\n",
       "      <td>0.977778</td>\n",
       "      <td>0.988889</td>\n",
       "      <td>0.988889</td>\n",
       "      <td>0.988889</td>\n",
       "      <td>0.988889</td>\n",
       "    </tr>\n",
       "    <tr>\n",
       "      <th>split3_test_score</th>\n",
       "      <td>0.909091</td>\n",
       "      <td>0.909091</td>\n",
       "      <td>0.909091</td>\n",
       "      <td>0.909091</td>\n",
       "      <td>0.909091</td>\n",
       "      <td>0.909091</td>\n",
       "      <td>0.909091</td>\n",
       "      <td>0.909091</td>\n",
       "      <td>0.909091</td>\n",
       "      <td>0.909091</td>\n",
       "      <td>...</td>\n",
       "      <td>0.909091</td>\n",
       "      <td>0.909091</td>\n",
       "      <td>0.909091</td>\n",
       "      <td>0.909091</td>\n",
       "      <td>0.909091</td>\n",
       "      <td>0.909091</td>\n",
       "      <td>0.909091</td>\n",
       "      <td>0.909091</td>\n",
       "      <td>0.909091</td>\n",
       "      <td>0.909091</td>\n",
       "    </tr>\n",
       "    <tr>\n",
       "      <th>split3_train_score</th>\n",
       "      <td>1</td>\n",
       "      <td>1</td>\n",
       "      <td>1</td>\n",
       "      <td>1</td>\n",
       "      <td>1</td>\n",
       "      <td>1</td>\n",
       "      <td>1</td>\n",
       "      <td>1</td>\n",
       "      <td>1</td>\n",
       "      <td>1</td>\n",
       "      <td>...</td>\n",
       "      <td>1</td>\n",
       "      <td>1</td>\n",
       "      <td>1</td>\n",
       "      <td>1</td>\n",
       "      <td>1</td>\n",
       "      <td>1</td>\n",
       "      <td>1</td>\n",
       "      <td>1</td>\n",
       "      <td>1</td>\n",
       "      <td>1</td>\n",
       "    </tr>\n",
       "    <tr>\n",
       "      <th>split4_test_score</th>\n",
       "      <td>0.952381</td>\n",
       "      <td>0.952381</td>\n",
       "      <td>0.952381</td>\n",
       "      <td>0.952381</td>\n",
       "      <td>0.952381</td>\n",
       "      <td>0.952381</td>\n",
       "      <td>0.952381</td>\n",
       "      <td>0.952381</td>\n",
       "      <td>0.952381</td>\n",
       "      <td>0.952381</td>\n",
       "      <td>...</td>\n",
       "      <td>0.952381</td>\n",
       "      <td>0.952381</td>\n",
       "      <td>0.952381</td>\n",
       "      <td>0.952381</td>\n",
       "      <td>0.952381</td>\n",
       "      <td>0.952381</td>\n",
       "      <td>0.952381</td>\n",
       "      <td>0.952381</td>\n",
       "      <td>0.952381</td>\n",
       "      <td>0.952381</td>\n",
       "    </tr>\n",
       "    <tr>\n",
       "      <th>split4_train_score</th>\n",
       "      <td>0.978022</td>\n",
       "      <td>0.978022</td>\n",
       "      <td>0.978022</td>\n",
       "      <td>0.989011</td>\n",
       "      <td>0.989011</td>\n",
       "      <td>0.989011</td>\n",
       "      <td>0.989011</td>\n",
       "      <td>0.989011</td>\n",
       "      <td>0.989011</td>\n",
       "      <td>0.989011</td>\n",
       "      <td>...</td>\n",
       "      <td>0.989011</td>\n",
       "      <td>0.989011</td>\n",
       "      <td>0.989011</td>\n",
       "      <td>0.989011</td>\n",
       "      <td>0.989011</td>\n",
       "      <td>0.989011</td>\n",
       "      <td>0.989011</td>\n",
       "      <td>0.989011</td>\n",
       "      <td>0.989011</td>\n",
       "      <td>0.989011</td>\n",
       "    </tr>\n",
       "    <tr>\n",
       "      <th>std_fit_time</th>\n",
       "      <td>0</td>\n",
       "      <td>0</td>\n",
       "      <td>0</td>\n",
       "      <td>0</td>\n",
       "      <td>0.004</td>\n",
       "      <td>0</td>\n",
       "      <td>0</td>\n",
       "      <td>0</td>\n",
       "      <td>0.004</td>\n",
       "      <td>0</td>\n",
       "      <td>...</td>\n",
       "      <td>0</td>\n",
       "      <td>0</td>\n",
       "      <td>0</td>\n",
       "      <td>0</td>\n",
       "      <td>0</td>\n",
       "      <td>0</td>\n",
       "      <td>0</td>\n",
       "      <td>0</td>\n",
       "      <td>0</td>\n",
       "      <td>0</td>\n",
       "    </tr>\n",
       "    <tr>\n",
       "      <th>std_score_time</th>\n",
       "      <td>0</td>\n",
       "      <td>0</td>\n",
       "      <td>0</td>\n",
       "      <td>0</td>\n",
       "      <td>0</td>\n",
       "      <td>0</td>\n",
       "      <td>0</td>\n",
       "      <td>0</td>\n",
       "      <td>0</td>\n",
       "      <td>0</td>\n",
       "      <td>...</td>\n",
       "      <td>0.004</td>\n",
       "      <td>0</td>\n",
       "      <td>0</td>\n",
       "      <td>0</td>\n",
       "      <td>0.004</td>\n",
       "      <td>0</td>\n",
       "      <td>0</td>\n",
       "      <td>0</td>\n",
       "      <td>0.004</td>\n",
       "      <td>0</td>\n",
       "    </tr>\n",
       "    <tr>\n",
       "      <th>std_test_score</th>\n",
       "      <td>0.0324799</td>\n",
       "      <td>0.0324799</td>\n",
       "      <td>0.0324799</td>\n",
       "      <td>0.0324799</td>\n",
       "      <td>0.0324799</td>\n",
       "      <td>0.0324799</td>\n",
       "      <td>0.0324799</td>\n",
       "      <td>0.0324799</td>\n",
       "      <td>0.0324799</td>\n",
       "      <td>0.0324799</td>\n",
       "      <td>...</td>\n",
       "      <td>0.0324799</td>\n",
       "      <td>0.0324799</td>\n",
       "      <td>0.0324799</td>\n",
       "      <td>0.0324799</td>\n",
       "      <td>0.0324799</td>\n",
       "      <td>0.0324799</td>\n",
       "      <td>0.0324799</td>\n",
       "      <td>0.0324799</td>\n",
       "      <td>0.0324799</td>\n",
       "      <td>0.0324799</td>\n",
       "    </tr>\n",
       "    <tr>\n",
       "      <th>std_train_score</th>\n",
       "      <td>0.00886637</td>\n",
       "      <td>0.00886637</td>\n",
       "      <td>0.00886637</td>\n",
       "      <td>0.00710738</td>\n",
       "      <td>0.00710738</td>\n",
       "      <td>0.00710738</td>\n",
       "      <td>0.00836242</td>\n",
       "      <td>0.00836242</td>\n",
       "      <td>0.00836242</td>\n",
       "      <td>0.00710738</td>\n",
       "      <td>...</td>\n",
       "      <td>0.00710738</td>\n",
       "      <td>0.00710738</td>\n",
       "      <td>0.00710738</td>\n",
       "      <td>0.00710738</td>\n",
       "      <td>0.00836242</td>\n",
       "      <td>0.00836242</td>\n",
       "      <td>0.00710738</td>\n",
       "      <td>0.00710738</td>\n",
       "      <td>0.00710738</td>\n",
       "      <td>0.00447172</td>\n",
       "    </tr>\n",
       "  </tbody>\n",
       "</table>\n",
       "<p>22 rows × 36 columns</p>\n",
       "</div>"
      ],
      "text/plain": [
       "                                          0                         1   \\\n",
       "mean_fit_time                              0                         0   \n",
       "mean_score_time                            0                         0   \n",
       "mean_test_score                     0.946429                  0.946429   \n",
       "mean_train_score                    0.984393                  0.984393   \n",
       "param_C                                    1                         1   \n",
       "param_gamma                                1                       1.2   \n",
       "params              {'gamma': 1.0, 'C': 1.0}  {'gamma': 1.2, 'C': 1.0}   \n",
       "rank_test_score                            1                         1   \n",
       "split0_test_score                   0.916667                  0.916667   \n",
       "split0_train_score                  0.988636                  0.988636   \n",
       "split1_test_score                   0.956522                  0.956522   \n",
       "split1_train_score                  0.977528                  0.977528   \n",
       "split2_test_score                          1                         1   \n",
       "split2_train_score                  0.977778                  0.977778   \n",
       "split3_test_score                   0.909091                  0.909091   \n",
       "split3_train_score                         1                         1   \n",
       "split4_test_score                   0.952381                  0.952381   \n",
       "split4_train_score                  0.978022                  0.978022   \n",
       "std_fit_time                               0                         0   \n",
       "std_score_time                             0                         0   \n",
       "std_test_score                     0.0324799                 0.0324799   \n",
       "std_train_score                   0.00886637                0.00886637   \n",
       "\n",
       "                                          2                         3   \\\n",
       "mean_fit_time                              0                         0   \n",
       "mean_score_time                            0                         0   \n",
       "mean_test_score                     0.946429                  0.946429   \n",
       "mean_train_score                    0.984393                  0.988813   \n",
       "param_C                                    1                         1   \n",
       "param_gamma                              1.4                       1.6   \n",
       "params              {'gamma': 1.4, 'C': 1.0}  {'gamma': 1.6, 'C': 1.0}   \n",
       "rank_test_score                            1                         1   \n",
       "split0_test_score                   0.916667                  0.916667   \n",
       "split0_train_score                  0.988636                  0.988636   \n",
       "split1_test_score                   0.956522                  0.956522   \n",
       "split1_train_score                  0.977528                  0.977528   \n",
       "split2_test_score                          1                         1   \n",
       "split2_train_score                  0.977778                  0.988889   \n",
       "split3_test_score                   0.909091                  0.909091   \n",
       "split3_train_score                         1                         1   \n",
       "split4_test_score                   0.952381                  0.952381   \n",
       "split4_train_score                  0.978022                  0.989011   \n",
       "std_fit_time                               0                         0   \n",
       "std_score_time                             0                         0   \n",
       "std_test_score                     0.0324799                 0.0324799   \n",
       "std_train_score                   0.00886637                0.00710738   \n",
       "\n",
       "                                          4                         5   \\\n",
       "mean_fit_time                          0.002                         0   \n",
       "mean_score_time                            0                         0   \n",
       "mean_test_score                     0.946429                  0.946429   \n",
       "mean_train_score                    0.988813                  0.988813   \n",
       "param_C                                    1                         1   \n",
       "param_gamma                              1.8                         2   \n",
       "params              {'gamma': 1.8, 'C': 1.0}  {'gamma': 2.0, 'C': 1.0}   \n",
       "rank_test_score                            1                         1   \n",
       "split0_test_score                   0.916667                  0.916667   \n",
       "split0_train_score                  0.988636                  0.988636   \n",
       "split1_test_score                   0.956522                  0.956522   \n",
       "split1_train_score                  0.977528                  0.977528   \n",
       "split2_test_score                          1                         1   \n",
       "split2_train_score                  0.988889                  0.988889   \n",
       "split3_test_score                   0.909091                  0.909091   \n",
       "split3_train_score                         1                         1   \n",
       "split4_test_score                   0.952381                  0.952381   \n",
       "split4_train_score                  0.989011                  0.989011   \n",
       "std_fit_time                           0.004                         0   \n",
       "std_score_time                             0                         0   \n",
       "std_test_score                     0.0324799                 0.0324799   \n",
       "std_train_score                   0.00710738                0.00710738   \n",
       "\n",
       "                                          6                         7   \\\n",
       "mean_fit_time                              0                         0   \n",
       "mean_score_time                            0                         0   \n",
       "mean_test_score                     0.946429                  0.946429   \n",
       "mean_train_score                    0.986591                  0.986591   \n",
       "param_C                                  1.2                       1.2   \n",
       "param_gamma                                1                       1.2   \n",
       "params              {'gamma': 1.0, 'C': 1.2}  {'gamma': 1.2, 'C': 1.2}   \n",
       "rank_test_score                            1                         1   \n",
       "split0_test_score                   0.916667                  0.916667   \n",
       "split0_train_score                  0.988636                  0.988636   \n",
       "split1_test_score                   0.956522                  0.956522   \n",
       "split1_train_score                  0.977528                  0.977528   \n",
       "split2_test_score                          1                         1   \n",
       "split2_train_score                  0.977778                  0.977778   \n",
       "split3_test_score                   0.909091                  0.909091   \n",
       "split3_train_score                         1                         1   \n",
       "split4_test_score                   0.952381                  0.952381   \n",
       "split4_train_score                  0.989011                  0.989011   \n",
       "std_fit_time                               0                         0   \n",
       "std_score_time                             0                         0   \n",
       "std_test_score                     0.0324799                 0.0324799   \n",
       "std_train_score                   0.00836242                0.00836242   \n",
       "\n",
       "                                          8                         9   \\\n",
       "mean_fit_time                          0.002                         0   \n",
       "mean_score_time                            0                         0   \n",
       "mean_test_score                     0.946429                  0.946429   \n",
       "mean_train_score                    0.986591                  0.988813   \n",
       "param_C                                  1.2                       1.2   \n",
       "param_gamma                              1.4                       1.6   \n",
       "params              {'gamma': 1.4, 'C': 1.2}  {'gamma': 1.6, 'C': 1.2}   \n",
       "rank_test_score                            1                         1   \n",
       "split0_test_score                   0.916667                  0.916667   \n",
       "split0_train_score                  0.988636                  0.988636   \n",
       "split1_test_score                   0.956522                  0.956522   \n",
       "split1_train_score                  0.977528                  0.977528   \n",
       "split2_test_score                          1                         1   \n",
       "split2_train_score                  0.977778                  0.988889   \n",
       "split3_test_score                   0.909091                  0.909091   \n",
       "split3_train_score                         1                         1   \n",
       "split4_test_score                   0.952381                  0.952381   \n",
       "split4_train_score                  0.989011                  0.989011   \n",
       "std_fit_time                           0.004                         0   \n",
       "std_score_time                             0                         0   \n",
       "std_test_score                     0.0324799                 0.0324799   \n",
       "std_train_score                   0.00836242                0.00710738   \n",
       "\n",
       "                              ...                                   26  \\\n",
       "mean_fit_time                 ...                                    0   \n",
       "mean_score_time               ...                                0.002   \n",
       "mean_test_score               ...                             0.946429   \n",
       "mean_train_score              ...                             0.988813   \n",
       "param_C                       ...                                  1.8   \n",
       "param_gamma                   ...                                  1.4   \n",
       "params                        ...             {'gamma': 1.4, 'C': 1.8}   \n",
       "rank_test_score               ...                                    1   \n",
       "split0_test_score             ...                             0.916667   \n",
       "split0_train_score            ...                             0.988636   \n",
       "split1_test_score             ...                             0.956522   \n",
       "split1_train_score            ...                             0.977528   \n",
       "split2_test_score             ...                                    1   \n",
       "split2_train_score            ...                             0.988889   \n",
       "split3_test_score             ...                             0.909091   \n",
       "split3_train_score            ...                                    1   \n",
       "split4_test_score             ...                             0.952381   \n",
       "split4_train_score            ...                             0.989011   \n",
       "std_fit_time                  ...                                    0   \n",
       "std_score_time                ...                                0.004   \n",
       "std_test_score                ...                            0.0324799   \n",
       "std_train_score               ...                           0.00710738   \n",
       "\n",
       "                                          27                        28  \\\n",
       "mean_fit_time                              0                         0   \n",
       "mean_score_time                            0                         0   \n",
       "mean_test_score                     0.946429                  0.946429   \n",
       "mean_train_score                    0.988813                  0.988813   \n",
       "param_C                                  1.8                       1.8   \n",
       "param_gamma                              1.6                       1.8   \n",
       "params              {'gamma': 1.6, 'C': 1.8}  {'gamma': 1.8, 'C': 1.8}   \n",
       "rank_test_score                            1                         1   \n",
       "split0_test_score                   0.916667                  0.916667   \n",
       "split0_train_score                  0.988636                  0.988636   \n",
       "split1_test_score                   0.956522                  0.956522   \n",
       "split1_train_score                  0.977528                  0.977528   \n",
       "split2_test_score                          1                         1   \n",
       "split2_train_score                  0.988889                  0.988889   \n",
       "split3_test_score                   0.909091                  0.909091   \n",
       "split3_train_score                         1                         1   \n",
       "split4_test_score                   0.952381                  0.952381   \n",
       "split4_train_score                  0.989011                  0.989011   \n",
       "std_fit_time                               0                         0   \n",
       "std_score_time                             0                         0   \n",
       "std_test_score                     0.0324799                 0.0324799   \n",
       "std_train_score                   0.00710738                0.00710738   \n",
       "\n",
       "                                          29                        30  \\\n",
       "mean_fit_time                              0                         0   \n",
       "mean_score_time                            0                     0.002   \n",
       "mean_test_score                     0.946429                  0.946429   \n",
       "mean_train_score                    0.988813                  0.986591   \n",
       "param_C                                  1.8                         2   \n",
       "param_gamma                                2                         1   \n",
       "params              {'gamma': 2.0, 'C': 1.8}  {'gamma': 1.0, 'C': 2.0}   \n",
       "rank_test_score                            1                         1   \n",
       "split0_test_score                   0.916667                  0.916667   \n",
       "split0_train_score                  0.988636                  0.988636   \n",
       "split1_test_score                   0.956522                  0.956522   \n",
       "split1_train_score                  0.977528                  0.977528   \n",
       "split2_test_score                          1                         1   \n",
       "split2_train_score                  0.988889                  0.977778   \n",
       "split3_test_score                   0.909091                  0.909091   \n",
       "split3_train_score                         1                         1   \n",
       "split4_test_score                   0.952381                  0.952381   \n",
       "split4_train_score                  0.989011                  0.989011   \n",
       "std_fit_time                               0                         0   \n",
       "std_score_time                             0                     0.004   \n",
       "std_test_score                     0.0324799                 0.0324799   \n",
       "std_train_score                   0.00710738                0.00836242   \n",
       "\n",
       "                                          31                        32  \\\n",
       "mean_fit_time                              0                         0   \n",
       "mean_score_time                            0                         0   \n",
       "mean_test_score                     0.946429                  0.946429   \n",
       "mean_train_score                    0.986591                  0.988813   \n",
       "param_C                                    2                         2   \n",
       "param_gamma                              1.2                       1.4   \n",
       "params              {'gamma': 1.2, 'C': 2.0}  {'gamma': 1.4, 'C': 2.0}   \n",
       "rank_test_score                            1                         1   \n",
       "split0_test_score                   0.916667                  0.916667   \n",
       "split0_train_score                  0.988636                  0.988636   \n",
       "split1_test_score                   0.956522                  0.956522   \n",
       "split1_train_score                  0.977528                  0.977528   \n",
       "split2_test_score                          1                         1   \n",
       "split2_train_score                  0.977778                  0.988889   \n",
       "split3_test_score                   0.909091                  0.909091   \n",
       "split3_train_score                         1                         1   \n",
       "split4_test_score                   0.952381                  0.952381   \n",
       "split4_train_score                  0.989011                  0.989011   \n",
       "std_fit_time                               0                         0   \n",
       "std_score_time                             0                         0   \n",
       "std_test_score                     0.0324799                 0.0324799   \n",
       "std_train_score                   0.00836242                0.00710738   \n",
       "\n",
       "                                          33                        34  \\\n",
       "mean_fit_time                              0                         0   \n",
       "mean_score_time                            0                     0.002   \n",
       "mean_test_score                     0.946429                  0.946429   \n",
       "mean_train_score                    0.988813                  0.988813   \n",
       "param_C                                    2                         2   \n",
       "param_gamma                              1.6                       1.8   \n",
       "params              {'gamma': 1.6, 'C': 2.0}  {'gamma': 1.8, 'C': 2.0}   \n",
       "rank_test_score                            1                         1   \n",
       "split0_test_score                   0.916667                  0.916667   \n",
       "split0_train_score                  0.988636                  0.988636   \n",
       "split1_test_score                   0.956522                  0.956522   \n",
       "split1_train_score                  0.977528                  0.977528   \n",
       "split2_test_score                          1                         1   \n",
       "split2_train_score                  0.988889                  0.988889   \n",
       "split3_test_score                   0.909091                  0.909091   \n",
       "split3_train_score                         1                         1   \n",
       "split4_test_score                   0.952381                  0.952381   \n",
       "split4_train_score                  0.989011                  0.989011   \n",
       "std_fit_time                               0                         0   \n",
       "std_score_time                             0                     0.004   \n",
       "std_test_score                     0.0324799                 0.0324799   \n",
       "std_train_score                   0.00710738                0.00710738   \n",
       "\n",
       "                                          35  \n",
       "mean_fit_time                              0  \n",
       "mean_score_time                            0  \n",
       "mean_test_score                     0.946429  \n",
       "mean_train_score                     0.99106  \n",
       "param_C                                    2  \n",
       "param_gamma                                2  \n",
       "params              {'gamma': 2.0, 'C': 2.0}  \n",
       "rank_test_score                            1  \n",
       "split0_test_score                   0.916667  \n",
       "split0_train_score                  0.988636  \n",
       "split1_test_score                   0.956522  \n",
       "split1_train_score                  0.988764  \n",
       "split2_test_score                          1  \n",
       "split2_train_score                  0.988889  \n",
       "split3_test_score                   0.909091  \n",
       "split3_train_score                         1  \n",
       "split4_test_score                   0.952381  \n",
       "split4_train_score                  0.989011  \n",
       "std_fit_time                               0  \n",
       "std_score_time                             0  \n",
       "std_test_score                     0.0324799  \n",
       "std_train_score                   0.00447172  \n",
       "\n",
       "[22 rows x 36 columns]"
      ]
     },
     "metadata": {},
     "output_type": "display_data"
    }
   ],
   "source": [
    "results = pd.DataFrame(grid_search.cv_results_)\n",
    "# we display the transposed table so that it better fits on the page:\n",
    "display(results.T)"
   ]
  },
  {
   "cell_type": "markdown",
   "metadata": {},
   "source": [
    "#### 嵌套CV\n",
    "\n",
    "前面我们进行只是对数据进行一次拆分（训练，验证，测试），然后在训练数据上进行CV。利用GridSearchCV时因为我们只是在一次拆分上进心，显然这样获得的结果并不稳定，它明显依赖这一次拆分。那么我们可以更进一步，在训练测试数据的拆分上也进行CV，这样就产生了嵌套CV。外循环进行训练测试集拆分，而每一次拆分我们又进行了grid search（可能每次产生的最佳参数不同）。而针对每次外循环，返回最佳结果\n",
    "\n",
    "嵌套CV得到的不是一个模型或者参数，而是一系列的模型评分，这个评分告诉我们grid search获得最佳参数的模型的泛化能力。不过因为嵌套CV只是返回评分，所以很少使用，通常只是用来来评估模型。"
   ]
  },
  {
   "cell_type": "code",
   "execution_count": 63,
   "metadata": {
    "collapsed": false
   },
   "outputs": [
    {
     "name": "stdout",
     "output_type": "stream",
     "text": [
      "Cross-validation scores:  [ 0.96666667  1.          0.9         0.96666667  1.        ]\n",
      "Mean cross-validation score:  0.966666666667\n"
     ]
    }
   ],
   "source": [
    "scores = cross_val_score(GridSearchCV(SVC(), param_grid, cv=5),\n",
    "                         iris.data, iris.target, cv=5)\n",
    "print(\"Cross-validation scores: \", scores)\n",
    "print(\"Mean cross-validation score: \", scores.mean())"
   ]
  },
  {
   "cell_type": "markdown",
   "metadata": {},
   "source": [
    "这里的嵌套CV可以解读为“SVC在iris这个数据集上可以获得97% 的平均 CV accuracy”。不过需要注意这里我们构建了 $36*5*5$=900个模型\n"
   ]
  },
  {
   "cell_type": "code",
   "execution_count": null,
   "metadata": {
    "collapsed": true
   },
   "outputs": [],
   "source": []
  }
 ],
 "metadata": {
  "anaconda-cloud": {},
  "kernelspec": {
   "display_name": "Python [default]",
   "language": "python",
   "name": "python3"
  },
  "language_info": {
   "codemirror_mode": {
    "name": "ipython",
    "version": 3
   },
   "file_extension": ".py",
   "mimetype": "text/x-python",
   "name": "python",
   "nbconvert_exporter": "python",
   "pygments_lexer": "ipython3",
   "version": "3.5.2"
  }
 },
 "nbformat": 4,
 "nbformat_minor": 0
}

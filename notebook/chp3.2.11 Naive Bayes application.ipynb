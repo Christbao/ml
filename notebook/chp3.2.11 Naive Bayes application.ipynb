{
 "cells": [
  {
   "cell_type": "code",
   "execution_count": 4,
   "metadata": {
    "collapsed": false
   },
   "outputs": [],
   "source": [
    "from sklearn.datasets import load_files  \n",
    "from sklearn.model_selection import train_test_split\n",
    "from sklearn.feature_extraction.text import  CountVectorizer  \n",
    "from sklearn.feature_extraction.text import  TfidfVectorizer  \n",
    "from sklearn.naive_bayes import MultinomialNB  \n",
    "from sklearn.metrics import precision_recall_curve  CountVectorizer\n",
    "from sklearn.metrics import classification_report  "
   ]
  },
  {
   "cell_type": "code",
   "execution_count": 7,
   "metadata": {
    "collapsed": true
   },
   "outputs": [],
   "source": [
    "#康奈尔大学网站的2M影评数据集\n",
    "movie_reviews=load_files('../data/tokens')\n",
    "movie_data   = movie_reviews.data\n",
    "movie_target = movie_reviews.target"
   ]
  },
  {
   "cell_type": "code",
   "execution_count": 8,
   "metadata": {
    "collapsed": false
   },
   "outputs": [
    {
     "data": {
      "text/plain": [
       "sklearn.datasets.base.Bunch"
      ]
     },
     "execution_count": 8,
     "metadata": {},
     "output_type": "execute_result"
    }
   ],
   "source": [
    "type(movie_reviews)"
   ]
  },
  {
   "cell_type": "code",
   "execution_count": 16,
   "metadata": {
    "collapsed": false
   },
   "outputs": [
    {
     "data": {
      "text/plain": [
       "1400"
      ]
     },
     "execution_count": 16,
     "metadata": {},
     "output_type": "execute_result"
    }
   ],
   "source": [
    "len(movie_data)"
   ]
  },
  {
   "cell_type": "code",
   "execution_count": 13,
   "metadata": {
    "collapsed": false
   },
   "outputs": [
    {
     "name": "stdout",
     "output_type": "stream",
     "text": [
      "0.810714285714\n",
      "             precision    recall  f1-score   support\n",
      "\n",
      "        neg       0.77      0.87      0.82       135\n",
      "        pos       0.87      0.75      0.80       145\n",
      "\n",
      "avg / total       0.82      0.81      0.81       280\n",
      "\n"
     ]
    }
   ],
   "source": [
    "count_vec = TfidfVectorizer(binary = False, decode_error = 'ignore',\n",
    "                            stop_words = 'english')  \n",
    "x_train, x_test, y_train, y_test  = train_test_split(movie_data, movie_target, test_size = 0.2)  \n",
    "x_train = count_vec.fit_transform(x_train)\n",
    "#注意，测试样本调用的是transform接口 \n",
    "x_test  = count_vec.transform(x_test)  \n",
    "  \n",
    "#调用MultinomialNB分类器  \n",
    "clf = MultinomialNB().fit(x_train, y_train)  \n",
    "doc_class_predicted = clf.predict(x_test)  \n",
    "      \n",
    "print(np.mean(doc_class_predicted == y_test))  \n",
    "  \n",
    "#准确率与召回率  \n",
    "precision, recall, thresholds = precision_recall_curve(y_test, clf.predict(x_test))  \n",
    "answer = clf.predict_proba(x_test)[:,1]  \n",
    "report = answer > 0.5  \n",
    "print(classification_report(y_test, report, target_names = ['neg', 'pos'])) "
   ]
  },
  {
   "cell_type": "markdown",
   "metadata": {},
   "source": [
    "我们选用的朴素贝叶斯分类器类别：MultinomialNB，这个分类器以出现次数作为特征值，我们使用的TF-IDF也能符合这类分布。其他的朴素贝叶斯分类器如GaussianNB适用于高斯分布（正态分布）的特征，而BernoulliNB适用于伯努利分布（二值分布）的特征。"
   ]
  },
  {
   "cell_type": "code",
   "execution_count": null,
   "metadata": {
    "collapsed": true
   },
   "outputs": [],
   "source": []
  }
 ],
 "metadata": {
  "kernelspec": {
   "display_name": "Python [conda env:py35]",
   "language": "python",
   "name": "conda-env-py35-py"
  },
  "language_info": {
   "codemirror_mode": {
    "name": "ipython",
    "version": 3
   },
   "file_extension": ".py",
   "mimetype": "text/x-python",
   "name": "python",
   "nbconvert_exporter": "python",
   "pygments_lexer": "ipython3",
   "version": "3.5.2"
  }
 },
 "nbformat": 4,
 "nbformat_minor": 2
}

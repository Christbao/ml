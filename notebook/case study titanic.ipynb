{
 "cells": [
  {
   "cell_type": "code",
   "execution_count": 1,
   "metadata": {
    "collapsed": false
   },
   "outputs": [],
   "source": [
    "import numpy as np\n",
    "import pandas as pd \n",
    "import matplotlib.pyplot as plt\n",
    "#设置画图时的文字格式为微软雅黑，显示中文字体\n",
    "#plt.rcParams['axes.unicode_minus'] = False\n",
    "#plt.rcParams['font.sans-serif']=['SimHei'] \n",
    "#plt.style.use(\"ggplot\")\n",
    "%matplotlib inline"
   ]
  },
  {
   "cell_type": "markdown",
   "metadata": {},
   "source": [
    "泰坦尼克号由位于爱尔兰岛贝尔法斯特的哈兰德与沃尔夫造船厂兴建，是当时最大的客运轮船。在它的处女航中，泰坦尼克号从英国南安普敦出发，途经法国瑟堡-奥克特维尔以及爱尔兰昆士敦，计划中的目的地为美国纽约。1912年4月14日，船上时间夜里11时40分，泰坦尼克号撞上冰山；4月15日凌晨2时20分，船体断裂成两截后沉入大西洋。泰坦尼克号海难为和平时期死伤人数最惨重的海难之一。船上1500多人丧生。2012年10月16日，沉船遗物以1.89亿美元（约11亿人民币）出售。\n",
    "\n",
    "泰坦尼克号是人类的美好梦想达到顶峰时的产物，反映了人类掌握世界的强大自信心。它的沉没，向人类展示了大自然的神秘力量，以及命运的不可预测。到泰坦尼克号沉没那天为止，西方世界的人们已经享受了100年的安稳和太平。科技稳定地进步，工业迅速地发展，人们对未来信心十足。泰坦尼克号的沉没惊醒了这一切。这艘“永不沉没的轮船”——埃菲尔铁塔之后最大的人工钢铁构造物，工业时代的伟大成就，因为对自然的威力掉以轻心，满不在乎，所以在第一次处女航中就沉没了。泰坦尼克号将永远让人们牢记人类的傲慢自信所付出的代价。人们永远也忘不了这幅画面：泰坦尼克号在海底昂着头，残破和污迹也掩盖不了她的高贵。这就是她的归宿。历史就这样演变成了传奇。\n",
    "这场灾难震惊了国际社会。因为它向一些人证明了：人和人们的技术成就无法与自然的力量相比。当时，炼钢技术并不十分成熟，炼出的钢铁在现代的标准根本不能造船。泰坦尼克号上所使用的钢板含有许多化学杂质硫化锌，加上长期浸泡在冰冷的海水中，使得钢板更加脆弱。"
   ]
  },
  {
   "cell_type": "markdown",
   "metadata": {},
   "source": [
    "## 数据探索分析"
   ]
  },
  {
   "cell_type": "code",
   "execution_count": 41,
   "metadata": {
    "collapsed": false
   },
   "outputs": [
    {
     "name": "stdout",
     "output_type": "stream",
     "text": [
      "<class 'pandas.core.frame.DataFrame'>\n",
      "RangeIndex: 891 entries, 0 to 890\n",
      "Data columns (total 12 columns):\n",
      "PassengerId    891 non-null int64\n",
      "Survived       891 non-null int64\n",
      "Pclass         891 non-null int64\n",
      "Name           891 non-null object\n",
      "Sex            891 non-null object\n",
      "Age            714 non-null float64\n",
      "SibSp          891 non-null int64\n",
      "Parch          891 non-null int64\n",
      "Ticket         891 non-null object\n",
      "Fare           891 non-null float64\n",
      "Cabin          204 non-null object\n",
      "Embarked       889 non-null object\n",
      "dtypes: float64(2), int64(5), object(5)\n",
      "memory usage: 83.6+ KB\n"
     ]
    },
    {
     "name": "stderr",
     "output_type": "stream",
     "text": [
      "C:\\Users\\j7jiang\\AppData\\Local\\Continuum\\Anaconda2\\envs\\py35\\lib\\site-packages\\numpy\\lib\\function_base.py:3834: RuntimeWarning: Invalid value encountered in percentile\n",
      "  RuntimeWarning)\n"
     ]
    },
    {
     "data": {
      "text/html": [
       "<div>\n",
       "<table border=\"1\" class=\"dataframe\">\n",
       "  <thead>\n",
       "    <tr style=\"text-align: right;\">\n",
       "      <th></th>\n",
       "      <th>PassengerId</th>\n",
       "      <th>Survived</th>\n",
       "      <th>Pclass</th>\n",
       "      <th>Age</th>\n",
       "      <th>SibSp</th>\n",
       "      <th>Parch</th>\n",
       "      <th>Fare</th>\n",
       "    </tr>\n",
       "  </thead>\n",
       "  <tbody>\n",
       "    <tr>\n",
       "      <th>count</th>\n",
       "      <td>891.000000</td>\n",
       "      <td>891.000000</td>\n",
       "      <td>891.000000</td>\n",
       "      <td>714.000000</td>\n",
       "      <td>891.000000</td>\n",
       "      <td>891.000000</td>\n",
       "      <td>891.000000</td>\n",
       "    </tr>\n",
       "    <tr>\n",
       "      <th>mean</th>\n",
       "      <td>446.000000</td>\n",
       "      <td>0.383838</td>\n",
       "      <td>2.308642</td>\n",
       "      <td>29.699118</td>\n",
       "      <td>0.523008</td>\n",
       "      <td>0.381594</td>\n",
       "      <td>32.204208</td>\n",
       "    </tr>\n",
       "    <tr>\n",
       "      <th>std</th>\n",
       "      <td>257.353842</td>\n",
       "      <td>0.486592</td>\n",
       "      <td>0.836071</td>\n",
       "      <td>14.526497</td>\n",
       "      <td>1.102743</td>\n",
       "      <td>0.806057</td>\n",
       "      <td>49.693429</td>\n",
       "    </tr>\n",
       "    <tr>\n",
       "      <th>min</th>\n",
       "      <td>1.000000</td>\n",
       "      <td>0.000000</td>\n",
       "      <td>1.000000</td>\n",
       "      <td>0.420000</td>\n",
       "      <td>0.000000</td>\n",
       "      <td>0.000000</td>\n",
       "      <td>0.000000</td>\n",
       "    </tr>\n",
       "    <tr>\n",
       "      <th>25%</th>\n",
       "      <td>223.500000</td>\n",
       "      <td>0.000000</td>\n",
       "      <td>2.000000</td>\n",
       "      <td>NaN</td>\n",
       "      <td>0.000000</td>\n",
       "      <td>0.000000</td>\n",
       "      <td>7.910400</td>\n",
       "    </tr>\n",
       "    <tr>\n",
       "      <th>50%</th>\n",
       "      <td>446.000000</td>\n",
       "      <td>0.000000</td>\n",
       "      <td>3.000000</td>\n",
       "      <td>NaN</td>\n",
       "      <td>0.000000</td>\n",
       "      <td>0.000000</td>\n",
       "      <td>14.454200</td>\n",
       "    </tr>\n",
       "    <tr>\n",
       "      <th>75%</th>\n",
       "      <td>668.500000</td>\n",
       "      <td>1.000000</td>\n",
       "      <td>3.000000</td>\n",
       "      <td>NaN</td>\n",
       "      <td>1.000000</td>\n",
       "      <td>0.000000</td>\n",
       "      <td>31.000000</td>\n",
       "    </tr>\n",
       "    <tr>\n",
       "      <th>max</th>\n",
       "      <td>891.000000</td>\n",
       "      <td>1.000000</td>\n",
       "      <td>3.000000</td>\n",
       "      <td>80.000000</td>\n",
       "      <td>8.000000</td>\n",
       "      <td>6.000000</td>\n",
       "      <td>512.329200</td>\n",
       "    </tr>\n",
       "  </tbody>\n",
       "</table>\n",
       "</div>"
      ],
      "text/plain": [
       "       PassengerId    Survived      Pclass         Age       SibSp  \\\n",
       "count   891.000000  891.000000  891.000000  714.000000  891.000000   \n",
       "mean    446.000000    0.383838    2.308642   29.699118    0.523008   \n",
       "std     257.353842    0.486592    0.836071   14.526497    1.102743   \n",
       "min       1.000000    0.000000    1.000000    0.420000    0.000000   \n",
       "25%     223.500000    0.000000    2.000000         NaN    0.000000   \n",
       "50%     446.000000    0.000000    3.000000         NaN    0.000000   \n",
       "75%     668.500000    1.000000    3.000000         NaN    1.000000   \n",
       "max     891.000000    1.000000    3.000000   80.000000    8.000000   \n",
       "\n",
       "            Parch        Fare  \n",
       "count  891.000000  891.000000  \n",
       "mean     0.381594   32.204208  \n",
       "std      0.806057   49.693429  \n",
       "min      0.000000    0.000000  \n",
       "25%      0.000000    7.910400  \n",
       "50%      0.000000   14.454200  \n",
       "75%      0.000000   31.000000  \n",
       "max      6.000000  512.329200  "
      ]
     },
     "execution_count": 41,
     "metadata": {},
     "output_type": "execute_result"
    }
   ],
   "source": [
    "data=pd.read_csv('../data/train.csv')  \n",
    "data.info()  \n",
    "data.describe()  "
   ]
  },
  {
   "cell_type": "code",
   "execution_count": 42,
   "metadata": {
    "collapsed": false
   },
   "outputs": [
    {
     "data": {
      "text/plain": [
       "687"
      ]
     },
     "execution_count": 42,
     "metadata": {},
     "output_type": "execute_result"
    }
   ],
   "source": [
    "data['Cabin'].isnull().sum()"
   ]
  },
  {
   "cell_type": "markdown",
   "metadata": {},
   "source": [
    "12个变量，其中7个是数值变量，5个是属性变量\n",
    "\n",
    "+ PassengerId：乘客的编号，对乘客是否幸存完全没有任何作用\n",
    "+ Survived：预测的目标变量。从平均数可以看出，最后存活的概率大概是38%。\n",
    "+ Pclass：社会经济地位，这个很明显和生存结果相关啊，有钱人住着更加高级船舱可能会享受着更加高级的服务，因此遇险时往往会受到优待。所以这显然是我们要考虑的一个变量。\n",
    "+ Name：所有人的名字里都包括了Mr，Mrs和Miss，从中是不是隐约可以看出来一些性别和年龄的信息呢，可以采用one-hot编码\n",
    "+ Sex：性别这个属性肯定是很重要的，女性的生存几率应该会大大提高。one-hot编码\n",
    "+ Age：尊老爱幼!这是一个连续变量，是否应该进行bin处理后变成分类变量？然后利用one-hot编码进行处理？同时年龄值只有714个，需要补全\n",
    "+ SibSp：船上兄弟姐妹或者配偶的数量。\n",
    "+ Parch：船上父母或者孩子的数量。\n",
    "+ Ticket：船票的号码有用吗？\n",
    "+ Fare：船票价格，必须要考虑进去的变量。\n",
    "+ Cabin：船舱号，这个变量或许透露出了一点船舱等级的信息，不过大量数据缺失，另外是否从会合票价，Pclass强相关？\n",
    "+ Embarked：登船地点，不知道是否有用"
   ]
  },
  {
   "cell_type": "markdown",
   "metadata": {},
   "source": [
    "### 可视化"
   ]
  },
  {
   "cell_type": "code",
   "execution_count": 3,
   "metadata": {
    "collapsed": false
   },
   "outputs": [
    {
     "data": {
      "text/plain": [
       "<matplotlib.text.Text at 0xb349780>"
      ]
     },
     "execution_count": 3,
     "metadata": {},
     "output_type": "execute_result"
    },
    {
     "data": {
      "image/png": "[encoded data removed]",
      "text/plain": [
       "<matplotlib.figure.Figure at 0x94f1748>"
      ]
     },
     "metadata": {},
     "output_type": "display_data"
    }
   ],
   "source": [
    "fig = plt.figure(figsize=(18,6)) \n",
    "alpha=alpha_scatterplot = 0.2 \n",
    "alpha_bar_chart = 0.55\n",
    "\n",
    "# 2x3 的图\n",
    "ax1 = plt.subplot2grid((2,3),(0,0))\n",
    "# bar\n",
    "data.Survived.value_counts().plot(kind='bar', alpha=alpha_bar_chart)\n",
    "ax1.set_xlim(-1, 2)\n",
    "plt.title(\"Distribution of Survival, (1 = Survived)\")    \n",
    "\n",
    "#age scatter\n",
    "plt.subplot2grid((2,3),(0,1))\n",
    "plt.scatter(data.Survived, data.Age, alpha=alpha_scatterplot)\n",
    "plt.ylabel(\"Age\")\n",
    "plt.grid(b=True, which='major', axis='y')  \n",
    "plt.title(\"Survival by Age,  (1 = Survived)\")\n",
    "# class distribution\n",
    "ax3 = plt.subplot2grid((2,3),(0,2))\n",
    "data.Pclass.value_counts().plot(kind=\"barh\", alpha=alpha_bar_chart)\n",
    "ax3.set_ylim(-1, len(data.Pclass.value_counts()))\n",
    "plt.title(\"Class Distribution\")\n",
    "#density by class\n",
    "plt.subplot2grid((2,3),(1,0), colspan=2)\n",
    "data.Age[data.Pclass == 1].plot(kind='kde')    \n",
    "data.Age[data.Pclass == 2].plot(kind='kde')\n",
    "data.Age[data.Pclass == 3].plot(kind='kde')\n",
    "plt.xlabel(\"Age\")    \n",
    "plt.title(\"Age Distribution within classes\")\n",
    "plt.legend(('1st Class', '2nd Class','3rd Class'),loc='best') \n",
    "#boarding location\n",
    "ax5 = plt.subplot2grid((2,3),(1,2))\n",
    "data.Embarked.value_counts().plot(kind='bar', alpha=alpha_bar_chart)\n",
    "ax5.set_xlim(-1, len(data.Embarked.value_counts()))\n",
    "plt.title(\"Passengers per boarding location\")"
   ]
  },
  {
   "cell_type": "markdown",
   "metadata": {},
   "source": [
    "### 生还情况"
   ]
  },
  {
   "cell_type": "code",
   "execution_count": 4,
   "metadata": {
    "collapsed": false
   },
   "outputs": [
    {
     "data": {
      "text/plain": [
       "<matplotlib.text.Text at 0xb6e5668>"
      ]
     },
     "execution_count": 4,
     "metadata": {},
     "output_type": "execute_result"
    },
    {
     "data": {
      "text/plain": [
       "<matplotlib.figure.Figure at 0x94d2f28>"
      ]
     },
     "metadata": {},
     "output_type": "display_data"
    },
    {
     "data": {
      "image/png": "[encoded data removed]",
      "text/plain": [
       "<matplotlib.figure.Figure at 0x94d2ef0>"
      ]
     },
     "metadata": {},
     "output_type": "display_data"
    }
   ],
   "source": [
    "plt.figure(figsize=(6,4))\n",
    "fig, ax = plt.subplots()\n",
    "data.Survived.value_counts().plot(kind='barh', color=\"blue\", alpha=.65)\n",
    "ax.set_ylim(-1, len(data.Survived.value_counts())) \n",
    "plt.title(\"Survival Breakdown (1 = Survived, 0 = Died)\")"
   ]
  },
  {
   "cell_type": "markdown",
   "metadata": {},
   "source": [
    "### 与性别有关吗?"
   ]
  },
  {
   "cell_type": "code",
   "execution_count": 5,
   "metadata": {
    "collapsed": false
   },
   "outputs": [
    {
     "data": {
      "text/plain": [
       "(-1, 2)"
      ]
     },
     "execution_count": 5,
     "metadata": {},
     "output_type": "execute_result"
    },
    {
     "data": {
      "image/png": "[encoded data removed]",
      "text/plain": [
       "<matplotlib.figure.Figure at 0x4d6ea20>"
      ]
     },
     "metadata": {},
     "output_type": "display_data"
    }
   ],
   "source": [
    "fig = plt.figure(figsize=(18,6))\n",
    "\n",
    "data_male = data.Survived[data.Sex == 'male'].value_counts().sort_index()\n",
    "data_female = data.Survived[data.Sex == 'female'].value_counts().sort_index()\n",
    "#生还人数\n",
    "ax1 = fig.add_subplot(121)\n",
    "data_male.plot(kind='barh',label='Male', alpha=0.55)\n",
    "data_female.plot(kind='barh', color='#FA2379',label='Female', alpha=0.55)\n",
    "plt.title(\"Who Survived? with respect to Gender, (raw value counts) \")\n",
    "plt.legend(loc='best')\n",
    "ax1.set_ylim(-1, 2) \n",
    "\n",
    "#生还比例\n",
    "ax2 = fig.add_subplot(122)\n",
    "(data_male/float(data_male.sum())).plot(kind='barh',label='Male', alpha=0.55)  \n",
    "(data_female/float(data_female.sum())).plot(kind='barh', color='#FA2379',label='Female', alpha=0.55)\n",
    "plt.title(\"Who Survived proportionally? with respect to Gender\"); plt.legend(loc='best')\n",
    "ax2.set_ylim(-1, 2)"
   ]
  },
  {
   "cell_type": "markdown",
   "metadata": {},
   "source": [
    "### 与社会地位有关吗?"
   ]
  },
  {
   "cell_type": "code",
   "execution_count": 6,
   "metadata": {
    "collapsed": false
   },
   "outputs": [
    {
     "data": {
      "text/plain": [
       "<matplotlib.legend.Legend at 0xba3afd0>"
      ]
     },
     "execution_count": 6,
     "metadata": {},
     "output_type": "execute_result"
    },
    {
     "data": {
      "image/png": "[encoded data removed]",
      "text/plain": [
       "<matplotlib.figure.Figure at 0xb9b1f60>"
      ]
     },
     "metadata": {},
     "output_type": "display_data"
    }
   ],
   "source": [
    "fig = plt.figure(figsize=(18,4))\n",
    "alpha_level = 0.65\n",
    "#female hig class\n",
    "ax1=fig.add_subplot(141)\n",
    "female_highclass = data.Survived[data.Sex == 'female'][data.Pclass != 3].value_counts()\n",
    "female_highclass.plot(kind='bar', label='female, highclass', color='#FA2479', alpha=alpha_level)\n",
    "ax1.set_xticklabels([\"Survived\", \"Died\"], rotation=0)\n",
    "ax1.set_xlim(-1, len(female_highclass))\n",
    "plt.title(\"Who Survived? with respect to Gender and Class\"); plt.legend(loc='best')\n",
    "#female,low class\n",
    "ax2=fig.add_subplot(142, sharey=ax1)\n",
    "female_lowclass = data.Survived[data.Sex == 'female'][data.Pclass == 3].value_counts()\n",
    "female_lowclass.plot(kind='bar', label='female, low class', color='pink', alpha=alpha_level)\n",
    "ax2.set_xticklabels([\"Died\",\"Survived\"], rotation=0)\n",
    "ax2.set_xlim(-1, len(female_lowclass))\n",
    "plt.legend(loc='best')\n",
    "#male low class\n",
    "ax3=fig.add_subplot(143, sharey=ax1)\n",
    "male_lowclass = data.Survived[data.Sex == 'male'][data.Pclass == 3].value_counts()\n",
    "male_lowclass.plot(kind='bar', label='male, low class',color='lightblue', alpha=alpha_level)\n",
    "ax3.set_xticklabels([\"Died\",\"Survived\"], rotation=0)\n",
    "ax3.set_xlim(-1, len(male_lowclass))\n",
    "plt.legend(loc='best')\n",
    "#male high class\n",
    "ax4=fig.add_subplot(144, sharey=ax1)\n",
    "male_highclass = data.Survived[data.Sex == 'male'][data.Pclass != 3].value_counts()\n",
    "male_highclass.plot(kind='bar', label='male, highclass', alpha=alpha_level, color='steelblue')\n",
    "ax4.set_xticklabels([\"Died\",\"Survived\"], rotation=0)\n",
    "ax4.set_xlim(-1, len(male_highclass))\n",
    "plt.legend(loc='best')"
   ]
  },
  {
   "cell_type": "markdown",
   "metadata": {},
   "source": [
    "串起来看问题"
   ]
  },
  {
   "cell_type": "code",
   "execution_count": 7,
   "metadata": {
    "collapsed": false
   },
   "outputs": [
    {
     "data": {
      "text/plain": [
       "<matplotlib.legend.Legend at 0xb79b2e8>"
      ]
     },
     "execution_count": 7,
     "metadata": {},
     "output_type": "execute_result"
    },
    {
     "data": {
      "image/png": "[encoded data removed]",
      "text/plain": [
       "<matplotlib.figure.Figure at 0xbbd89b0>"
      ]
     },
     "metadata": {},
     "output_type": "display_data"
    }
   ],
   "source": [
    "fig = plt.figure(figsize=(18,12))\n",
    "a = 0.65\n",
    "# Step 1 ,生还人数对比\n",
    "ax1 = fig.add_subplot(341)\n",
    "data.Survived.value_counts().plot(kind='bar', color=\"blue\", alpha=a)\n",
    "ax1.set_xlim(-1, len(data.Survived.value_counts()))\n",
    "plt.title(\"Step. 1\")\n",
    "\n",
    "# Step 2 性别有关没有\n",
    "ax2 = fig.add_subplot(345)\n",
    "data.Survived[data.Sex == 'male'].value_counts().plot(kind='bar',label='Male')\n",
    "data.Survived[data.Sex == 'female'].value_counts().plot(kind='bar', color='#FA2379',label='Female')\n",
    "ax2.set_xlim(-1, 2)\n",
    "plt.title(\"Step. 2 \\nWho Survied? with respect to Gender.\"); plt.legend(loc='best')\n",
    "\n",
    "ax3 = fig.add_subplot(346)\n",
    "(data.Survived[data.Sex == 'male'].value_counts()/float(data.Sex[data.Sex == 'male'].size)).plot(kind='bar',label='Male')\n",
    "(data.Survived[data.Sex == 'female'].value_counts()/float(data.Sex[data.Sex == 'female'].size)).plot(kind='bar', color='#FA2379',label='Female')\n",
    "ax3.set_xlim(-1,2)\n",
    "plt.title(\"Who Survied proportionally?\"); plt.legend(loc='best')\n",
    "\n",
    "\n",
    "# Step 3 与Pclass有关没有\n",
    "ax4 = fig.add_subplot(349)\n",
    "female_highclass = data.Survived[data.Sex == 'female'][data.Pclass != 3].value_counts()\n",
    "female_highclass.plot(kind='bar', label='female highclass', color='#FA2479', alpha=a)\n",
    "ax4.set_xticklabels([\"Survived\", \"Died\"], rotation=0)\n",
    "ax4.set_xlim(-1, len(female_highclass))\n",
    "plt.title(\"Who Survived? with respect to Gender and Class\"); plt.legend(loc='best')\n",
    "\n",
    "ax5 = fig.add_subplot(3,4,10, sharey=ax1)\n",
    "female_lowclass = data.Survived[data.Sex == 'female'][data.Pclass == 3].value_counts()\n",
    "female_lowclass.plot(kind='bar', label='female, low class', color='pink', alpha=a)\n",
    "ax5.set_xticklabels([\"Died\",\"Survived\"], rotation=0)\n",
    "ax5.set_xlim(-1, len(female_lowclass))\n",
    "plt.legend(loc='best')\n",
    "\n",
    "ax6 = fig.add_subplot(3,4,11, sharey=ax1)\n",
    "male_lowclass = data.Survived[data.Sex == 'male'][data.Pclass == 3].value_counts()\n",
    "male_lowclass.plot(kind='bar', label='male, low class',color='lightblue', alpha=a)\n",
    "ax6.set_xticklabels([\"Died\",\"Survived\"], rotation=0)\n",
    "ax6.set_xlim(-1, len(male_lowclass))\n",
    "plt.legend(loc='best')\n",
    "\n",
    "ax7 = fig.add_subplot(3,4,12, sharey=ax1)\n",
    "male_highclass = data.Survived[data.Sex == 'male'][data.Pclass != 3].value_counts()\n",
    "male_highclass.plot(kind='bar', label='male highclass', alpha=a, color='steelblue')\n",
    "ax7.set_xticklabels([\"Died\",\"Survived\"], rotation=0)\n",
    "ax7.set_xlim(-1, len(male_highclass))\n",
    "plt.legend(loc='best')"
   ]
  },
  {
   "cell_type": "markdown",
   "metadata": {
    "collapsed": true
   },
   "source": [
    "## 数据处理"
   ]
  },
  {
   "cell_type": "markdown",
   "metadata": {},
   "source": [
    "1. 剔除PassengerId，Ticket这两个个变量，我们不用(不过后面我们需要看那些情况我们预测错误所以这里PassenderId先保留)。\n",
    "2. 将Embarked变量补全，然后对Survived，Name，Sex， Embarked进行one-hot编码。\n",
    "3. 对Pclass，Fare,Sibsp和Parch进行归一化处理。\n",
    "3. 根据Name，Sex，SibSp，Parch预测age将其补全。\n",
    "4. 对age进行标准化处理。\n",
    "5. 将未编码的Survived提出当做目标变量\n",
    "\n",
    "通常的处理需要做的工作:\n",
    "\n",
    "1. 缺失数据处理\n",
    "2. 异常数据\n",
    "3. 数据标准化\n",
    "4. 数据特征变换\n",
    "5. 新特征\n",
    "6. 降维\n",
    "7. ..."
   ]
  },
  {
   "cell_type": "markdown",
   "metadata": {},
   "source": [
    "### drop"
   ]
  },
  {
   "cell_type": "code",
   "execution_count": 8,
   "metadata": {
    "collapsed": true
   },
   "outputs": [],
   "source": [
    "#data.drop(['PassengerId','Ticket'],axis=1,inplace=True)\n",
    "data.drop(['Ticket'],axis=1,inplace=True)\n",
    "#补全Embarked变量  \n",
    "data.loc[data.Embarked.isnull(),'Embarked']='S'"
   ]
  },
  {
   "cell_type": "markdown",
   "metadata": {},
   "source": [
    "### one-hot 编码"
   ]
  },
  {
   "cell_type": "code",
   "execution_count": 9,
   "metadata": {
    "collapsed": false
   },
   "outputs": [],
   "source": [
    "#one-hot编码  \n",
    "from sklearn.preprocessing import OneHotEncoder\n",
    "from sklearn.preprocessing import LabelEncoder\n",
    "\n",
    "le_sex=LabelEncoder().fit(data['Sex'])\n",
    "Sex_label=le_sex.transform(data['Sex'])\n",
    "ohe_sex=OneHotEncoder(sparse=False).fit(Sex_label.reshape(-1,1))\n",
    "Sex_ohe=ohe_sex.transform(Sex_label.reshape(-1,1))\n",
    "\n",
    "le_embarked=LabelEncoder().fit(data['Embarked'])\n",
    "Embarked_label=le_embarked.transform(data['Embarked'])\n",
    "ohe_embarked=OneHotEncoder(sparse=False).fit(Embarked_label.reshape(-1,1))\n",
    "Embarked_ohe=ohe_embarked.transform(Embarked_label.reshape(-1,1))\n"
   ]
  },
  {
   "cell_type": "code",
   "execution_count": 10,
   "metadata": {
    "collapsed": false
   },
   "outputs": [],
   "source": [
    "# 把name替换为Mrs,Mr,Miss\n",
    "def replace_name(x):  \n",
    "    if 'Mrs' in x:  \n",
    "       return 'Mrs'  \n",
    "    elif 'Mr' in x:  \n",
    "        return 'Mr'  \n",
    "    else:  \n",
    "        return 'Miss'  \n",
    "data['Name']=data['Name'].map(lambda x:replace_name(x))\n",
    "#one hot encoding，先使用Label encoder\n",
    "le_name=LabelEncoder().fit(data['Name'])\n",
    "Name_label=le_name.transform(data['Name'])\n",
    "ohe_name=OneHotEncoder(sparse=False).fit(Name_label.reshape(-1,1))  \n",
    "Name_ohe=ohe_name.transform(Name_label.reshape(-1,1))  \n",
    "\n"
   ]
  },
  {
   "cell_type": "code",
   "execution_count": 11,
   "metadata": {
    "collapsed": false
   },
   "outputs": [
    {
     "data": {
      "text/plain": [
       "array([[ 0.,  1.,  0.],\n",
       "       [ 0.,  0.,  1.],\n",
       "       [ 1.,  0.,  0.],\n",
       "       ..., \n",
       "       [ 1.,  0.,  0.],\n",
       "       [ 0.,  1.,  0.],\n",
       "       [ 0.,  1.,  0.]])"
      ]
     },
     "execution_count": 11,
     "metadata": {},
     "output_type": "execute_result"
    }
   ],
   "source": [
    "Name_ohe"
   ]
  },
  {
   "cell_type": "code",
   "execution_count": 12,
   "metadata": {
    "collapsed": false
   },
   "outputs": [
    {
     "data": {
      "text/plain": [
       "array([1, 2, 0, 2, 1, 1, 1, 0, 2, 2, 0, 0, 1, 1, 0, 2, 0, 1, 2, 2, 1, 1, 0,\n",
       "       1, 0, 2, 1, 1, 0, 1, 0, 2, 0, 1, 1, 1, 1, 1, 0, 0, 2, 2, 1, 0, 0, 1,\n",
       "       1, 0, 1, 2, 0, 1, 2, 2, 1, 1, 0, 1, 0, 0, 1, 0, 1, 0, 1, 0, 2, 1, 0,\n",
       "       1, 1, 0, 1, 1, 1, 1, 1, 1, 0, 0, 1, 1, 0, 1, 0, 2, 1, 1, 0, 1, 1, 1,\n",
       "       1, 1, 1, 1, 1, 1, 2, 1, 0, 1, 1, 1, 1, 1, 0, 1, 1, 0, 1, 0, 1, 0, 0,\n",
       "       1, 1, 1, 1, 0, 1, 1, 1, 0, 1, 0, 1, 1, 0, 1, 1, 1, 2, 2, 1, 1, 0, 1,\n",
       "       1, 1, 2, 0, 2, 1, 1, 1, 1, 0, 1, 0, 0, 2, 1, 1, 1, 1, 0, 1, 1, 0, 1,\n",
       "       2, 1, 1, 0, 0, 2, 2, 1, 1, 1, 0, 0, 1, 1, 1, 0, 0, 1, 1, 0, 1, 0, 0,\n",
       "       0, 1, 2, 1, 1, 1, 2, 1, 0, 0, 2, 0, 1, 1, 0, 2, 1, 1, 1, 1, 1, 0, 1,\n",
       "       1, 0, 1, 1, 0, 1, 1, 1, 0, 0, 1, 0, 1, 1, 1, 1, 1, 1, 1, 1, 1, 1, 0,\n",
       "       2, 1, 1, 0, 1, 0, 1, 0, 1, 1, 0, 0, 1, 1, 1, 0, 0, 2, 1, 0, 1, 2, 1,\n",
       "       1, 2, 2, 2, 0, 0, 2, 1, 0, 1, 1, 0, 1, 1, 1, 2, 0, 1, 1, 2, 1, 0, 0,\n",
       "       0, 1, 0, 2, 1, 1, 1, 1, 1, 1, 1, 1, 1, 0, 0, 2, 1, 0, 1, 1, 1, 0, 1,\n",
       "       2, 0, 1, 1, 0, 1, 0, 0, 2, 1, 0, 0, 0, 2, 1, 1, 0, 2, 0, 0, 2, 1, 1,\n",
       "       0, 2, 1, 0, 1, 2, 2, 0, 0, 1, 1, 1, 2, 1, 1, 0, 1, 1, 0, 0, 1, 1, 1,\n",
       "       0, 0, 2, 0, 1, 1, 1, 1, 1, 1, 1, 0, 0, 0, 0, 1, 1, 2, 1, 1, 1, 2, 2,\n",
       "       0, 0, 1, 1, 1, 1, 0, 2, 0, 1, 1, 1, 0, 0, 1, 2, 1, 1, 0, 0, 1, 0, 1,\n",
       "       1, 1, 0, 2, 1, 0, 1, 0, 2, 1, 1, 0, 1, 0, 1, 1, 0, 1, 0, 1, 1, 0, 1,\n",
       "       1, 2, 2, 0, 1, 0, 1, 1, 1, 2, 1, 1, 2, 2, 1, 1, 1, 2, 2, 1, 1, 0, 0,\n",
       "       2, 1, 1, 2, 1, 1, 0, 1, 0, 0, 1, 0, 0, 1, 1, 1, 1, 1, 1, 1, 2, 0, 1,\n",
       "       1, 1, 1, 1, 1, 1, 1, 1, 1, 0, 1, 1, 2, 2, 0, 1, 1, 1, 1, 0, 0, 1, 1,\n",
       "       2, 1, 0, 2, 1, 1, 0, 1, 1, 1, 1, 1, 1, 0, 1, 2, 1, 1, 0, 0, 0, 0, 1,\n",
       "       2, 1, 1, 1, 1, 1, 1, 2, 1, 1, 2, 1, 2, 1, 0, 1, 1, 2, 1, 1, 0, 1, 1,\n",
       "       1, 0, 1, 1, 2, 0, 0, 0, 0, 1, 0, 0, 0, 0, 1, 1, 1, 2, 1, 1, 0, 1, 1,\n",
       "       1, 1, 0, 1, 2, 1, 2, 2, 1, 1, 1, 1, 0, 1, 1, 2, 1, 1, 1, 2, 1, 0, 1,\n",
       "       1, 0, 2, 2, 1, 0, 2, 1, 1, 1, 0, 1, 1, 1, 1, 1, 2, 1, 0, 1, 1, 0, 1,\n",
       "       1, 1, 2, 1, 1, 1, 1, 1, 1, 1, 2, 0, 2, 1, 0, 1, 1, 0, 1, 2, 0, 1, 1,\n",
       "       1, 1, 1, 1, 1, 0, 0, 1, 1, 1, 1, 0, 1, 0, 0, 1, 1, 2, 1, 1, 0, 0, 1,\n",
       "       0, 1, 1, 0, 1, 0, 1, 0, 1, 0, 0, 1, 1, 2, 1, 1, 0, 1, 1, 1, 1, 1, 1,\n",
       "       1, 1, 2, 2, 1, 1, 1, 1, 1, 1, 0, 2, 1, 0, 1, 1, 1, 1, 1, 1, 1, 1, 0,\n",
       "       1, 0, 1, 1, 0, 1, 1, 0, 1, 1, 2, 1, 0, 1, 1, 1, 2, 1, 0, 0, 2, 1, 1,\n",
       "       1, 1, 1, 0, 0, 1, 1, 0, 1, 1, 1, 1, 1, 2, 0, 1, 0, 0, 1, 1, 1, 1, 1,\n",
       "       2, 1, 1, 1, 1, 1, 0, 1, 1, 0, 1, 0, 1, 1, 0, 0, 1, 1, 2, 0, 1, 1, 1,\n",
       "       0, 1, 1, 1, 2, 1, 2, 0, 0, 1, 1, 1, 1, 2, 1, 2, 1, 1, 0, 1, 2, 0, 2,\n",
       "       1, 1, 1, 1, 0, 0, 0, 1, 1, 1, 0, 1, 1, 1, 0, 2, 1, 2, 1, 2, 0, 0, 1,\n",
       "       1, 1, 0, 1, 2, 1, 1, 1, 0, 1, 1, 0, 1, 1, 0, 2, 1, 0, 2, 0, 1, 1, 0,\n",
       "       1, 2, 2, 0, 1, 1, 1, 0, 1, 1, 1, 1, 1, 1, 0, 1, 1, 1, 1, 1, 0, 2, 0,\n",
       "       1, 0, 0, 2, 2, 2, 1, 2, 1, 1, 1, 2, 0, 1, 2, 0, 1, 1, 0, 1, 2, 1, 1,\n",
       "       2, 0, 1, 1, 1, 2, 2, 1, 0, 1, 1, 2, 0, 0, 0, 1, 1], dtype=int64)"
      ]
     },
     "execution_count": 12,
     "metadata": {},
     "output_type": "execute_result"
    }
   ],
   "source": [
    "Name_label"
   ]
  },
  {
   "cell_type": "code",
   "execution_count": 13,
   "metadata": {
    "collapsed": true
   },
   "outputs": [],
   "source": [
    "data['Sex_0']=Sex_ohe[:,0]  \n",
    "data['Sex_1']=Sex_ohe[:,1]\n",
    "data['Embarked_0']=Embarked_ohe[:,0]\n",
    "data['Embarked_1']=Embarked_ohe[:,1]\n",
    "data['Embarked_2']=Embarked_ohe[:,2]\n",
    "data['Name_0']=Name_ohe[:,0]\n",
    "data['Name_1']=Name_ohe[:,1]\n",
    "data['Name_2']=Name_ohe[:,2]"
   ]
  },
  {
   "cell_type": "code",
   "execution_count": 14,
   "metadata": {
    "collapsed": false
   },
   "outputs": [],
   "source": [
    "data['Pclass']=data['Pclass'].astype(str)"
   ]
  },
  {
   "cell_type": "code",
   "execution_count": 15,
   "metadata": {
    "collapsed": false
   },
   "outputs": [],
   "source": [
    "oh_pclass=OneHotEncoder(sparse=False).fit(data['Pclass'].values.reshape(-1,1))\n",
    "class_ohe=oh_pclass.transform(data['Pclass'].values.reshape(-1,1))\n",
    "data['Pclass_0']=class_ohe[:,0]\n",
    "data['Pclass_1']=class_ohe[:,1]\n",
    "data['Pclass_2']=class_ohe[:,2]"
   ]
  },
  {
   "cell_type": "code",
   "execution_count": 16,
   "metadata": {
    "collapsed": false
   },
   "outputs": [
    {
     "data": {
      "text/plain": [
       "array([[ 0.,  0.,  1.],\n",
       "       [ 1.,  0.,  0.],\n",
       "       [ 0.,  0.,  1.],\n",
       "       ..., \n",
       "       [ 0.,  0.,  1.],\n",
       "       [ 1.,  0.,  0.],\n",
       "       [ 0.,  0.,  1.]])"
      ]
     },
     "execution_count": 16,
     "metadata": {},
     "output_type": "execute_result"
    }
   ],
   "source": [
    "class_ohe"
   ]
  },
  {
   "cell_type": "markdown",
   "metadata": {},
   "source": [
    "### 数据标准化"
   ]
  },
  {
   "cell_type": "code",
   "execution_count": 17,
   "metadata": {
    "collapsed": false
   },
   "outputs": [
    {
     "name": "stderr",
     "output_type": "stream",
     "text": [
      "C:\\Users\\j7jiang\\AppData\\Local\\Continuum\\Anaconda2\\envs\\py35\\lib\\site-packages\\sklearn\\utils\\validation.py:429: DataConversionWarning: Data with input dtype int64 was converted to float64 by StandardScaler.\n",
      "  warnings.warn(msg, _DataConversionWarning)\n"
     ]
    }
   ],
   "source": [
    "from sklearn.preprocessing import StandardScaler  \n",
    "data['Fare_scaled']=StandardScaler().fit_transform(data['Fare'].values.reshape(-1,1))\n",
    "data['SibSp_scaled']=StandardScaler().fit_transform(data['SibSp'].values.reshape(-1,1))\n",
    "data['Parch_scaled']=StandardScaler().fit_transform(data['Parch'].values.reshape(-1,1))"
   ]
  },
  {
   "cell_type": "markdown",
   "metadata": {},
   "source": [
    "### 数据补全"
   ]
  },
  {
   "cell_type": "code",
   "execution_count": 18,
   "metadata": {
    "collapsed": false
   },
   "outputs": [
    {
     "name": "stdout",
     "output_type": "stream",
     "text": [
      "0.525968143369\n"
     ]
    }
   ],
   "source": [
    "#预测年龄并补全  \n",
    "from sklearn.ensemble import RandomForestRegressor  \n",
    "def set_missing_age(data):  \n",
    "    train=data[['Age','SibSp_scaled','Parch_scaled','Name_0','Name_1','Name_2','Sex_0','Sex_1','Pclass_0','Pclass_1','Pclass_2']]\n",
    "    known_age=train[train.Age.notnull()].as_matrix()  \n",
    "    unknown_age=train[train.Age.isnull()].as_matrix()  \n",
    "    y=known_age[:,0]  \n",
    "    x=known_age[:,1:]  \n",
    "    rf=RandomForestRegressor(random_state=0,n_estimators=200,n_jobs=-1)  \n",
    "    rf.fit(x,y)  \n",
    "    print(rf.score(x,y))\n",
    "    predictage=rf.predict(unknown_age[:,1:])  \n",
    "    data.loc[data.Age.isnull(),'Age']=predictage  \n",
    "    return data,rf  \n",
    "data,rf=set_missing_age(data)  \n",
    "data['Age_scaled']=StandardScaler().fit_transform(data['Age'].values.reshape(-1,1))  \n",
    "train_x=data[['Sex_0','Sex_1','Embarked_0','Embarked_1','Embarked_2','Name_0','Name_1','Name_2',\n",
    "              'Pclass_0','Pclass_1','Pclass_2','Age_scaled','Fare_scaled','SibSp_scaled','PassengerId']].as_matrix()  \n",
    "train_y=data['Survived'].as_matrix()  "
   ]
  },
  {
   "cell_type": "markdown",
   "metadata": {},
   "source": [
    "## modeling"
   ]
  },
  {
   "cell_type": "code",
   "execution_count": 19,
   "metadata": {
    "collapsed": false
   },
   "outputs": [
    {
     "data": {
      "text/plain": [
       "(891, 14)"
      ]
     },
     "execution_count": 19,
     "metadata": {},
     "output_type": "execute_result"
    }
   ],
   "source": [
    "train_x[:,:-1].shape"
   ]
  },
  {
   "cell_type": "code",
   "execution_count": 20,
   "metadata": {
    "collapsed": false
   },
   "outputs": [
    {
     "name": "stdout",
     "output_type": "stream",
     "text": [
      "0.809701492537\n",
      "0.813432835821\n",
      "0.817164179104\n",
      "0.80223880597\n"
     ]
    }
   ],
   "source": [
    "#模型构造  \n",
    "from sklearn.model_selection import train_test_split  \n",
    "from sklearn.linear_model import LogisticRegression  \n",
    "x_tr_i,x_te_i,y_tr,y_te=train_test_split(train_x,train_y,test_size=0.3,random_state=0)\n",
    "x_tr=x_tr_i[:,:-1]\n",
    "x_te=x_te_i[:,:-1]\n",
    "\n",
    "lr=LogisticRegression(C=1.0,tol=1e-6)  \n",
    "lr.fit(x_tr,y_tr)  \n",
    "print(lr.score(x_te,y_te))\n",
    "\n",
    "from sklearn.svm import SVC  \n",
    "svc=SVC(C=2, kernel='rbf', decision_function_shape='ovo')  \n",
    "svc.fit(x_tr,y_tr)  \n",
    "print(svc.score(x_te,y_te))\n",
    "\n",
    "from sklearn.ensemble import RandomForestClassifier  \n",
    "randomf=RandomForestClassifier(n_estimators=100,max_depth=5,random_state=0)  \n",
    "randomf.fit(x_tr,y_tr)  \n",
    "print(randomf.score(x_te,y_te))\n",
    "\n",
    "from sklearn.ensemble import GradientBoostingClassifier  \n",
    "gdbt=GradientBoostingClassifier(n_estimators=600,max_depth=5,random_state=0)  \n",
    "gdbt.fit(x_tr,y_tr)  \n",
    "print(gdbt.score(x_te,y_te))"
   ]
  },
  {
   "cell_type": "markdown",
   "metadata": {},
   "source": [
    "## 优化"
   ]
  },
  {
   "cell_type": "code",
   "execution_count": 21,
   "metadata": {
    "collapsed": true
   },
   "outputs": [],
   "source": [
    "import numpy as np\n",
    "\n",
    "from time import time\n",
    "from scipy.stats import randint as sp_randint\n",
    "\n",
    "from sklearn.model_selection import GridSearchCV\n",
    "from sklearn.model_selection import RandomizedSearchCV"
   ]
  },
  {
   "cell_type": "markdown",
   "metadata": {},
   "source": [
    "### grid search"
   ]
  },
  {
   "cell_type": "code",
   "execution_count": 22,
   "metadata": {
    "collapsed": true
   },
   "outputs": [],
   "source": [
    "# Utility function to report best scores\n",
    "def report(results, n_top=3):\n",
    "    for i in range(1, n_top + 1):\n",
    "        candidates = np.flatnonzero(results['rank_test_score'] == i)\n",
    "        for candidate in candidates:\n",
    "            print(\"Model with rank: {0}\".format(i))\n",
    "            print(\"Mean validation score: {0:.3f} (std: {1:.3f})\".format(\n",
    "                  results['mean_test_score'][candidate],\n",
    "                  results['std_test_score'][candidate]))\n",
    "            print(\"Parameters: {0}\".format(results['params'][candidate]))\n",
    "            print(\"\")"
   ]
  },
  {
   "cell_type": "code",
   "execution_count": 23,
   "metadata": {
    "collapsed": false
   },
   "outputs": [
    {
     "name": "stdout",
     "output_type": "stream",
     "text": [
      "Hyperparameter optimization using GridSearchCV...\n",
      "GridSearchCV took 98.84 seconds for 162 candidate parameter settings.\n"
     ]
    }
   ],
   "source": [
    "\n",
    "# The most common value for the max number of features to look at in each split is sqrt(# of features)\n",
    "sqrtfeat = int(np.sqrt(x_tr.shape[1]))\n",
    " \n",
    "# Simple grid test (162 combinations)\n",
    "grid_test = { \"n_estimators\"      : [100, 250, 500],\n",
    "               \"criterion\"         : [\"gini\", \"entropy\"],\n",
    "               \"max_features\"      : [sqrtfeat-1, sqrtfeat, sqrtfeat+1],\n",
    "               \"max_depth\"         : [5, 10, 25],\n",
    "               \"min_samples_split\" : [2, 5, 10] }\n",
    "  \n",
    "forest = RandomForestClassifier(oob_score=True)\n",
    "\n",
    "print(\"Hyperparameter optimization using GridSearchCV...\")\n",
    "grid_search = GridSearchCV(forest, grid_test, n_jobs=-1, cv=3)\n",
    "start = time()\n",
    "grid_search.fit(x_tr, y_tr)\n",
    "print(\"GridSearchCV took %.2f seconds for %d candidate parameter settings.\"\n",
    "      % (time() - start, len(grid_search.cv_results_['params'])))"
   ]
  },
  {
   "cell_type": "code",
   "execution_count": 24,
   "metadata": {
    "collapsed": false
   },
   "outputs": [
    {
     "name": "stdout",
     "output_type": "stream",
     "text": [
      "Model with rank: 1\n",
      "Mean validation score: 0.823 (std: 0.010)\n",
      "Parameters: {'min_samples_split': 2, 'n_estimators': 100, 'max_depth': 5, 'criterion': 'gini', 'max_features': 4}\n",
      "\n",
      "Model with rank: 2\n",
      "Mean validation score: 0.822 (std: 0.014)\n",
      "Parameters: {'min_samples_split': 5, 'max_features': 4, 'max_depth': 5, 'criterion': 'gini', 'n_estimators': 100}\n",
      "\n",
      "Model with rank: 2\n",
      "Mean validation score: 0.822 (std: 0.021)\n",
      "Parameters: {'min_samples_split': 5, 'n_estimators': 100, 'max_depth': 25, 'criterion': 'gini', 'max_features': 2}\n",
      "\n"
     ]
    }
   ],
   "source": [
    "report(grid_search.cv_results_)"
   ]
  },
  {
   "cell_type": "code",
   "execution_count": 25,
   "metadata": {
    "collapsed": false
   },
   "outputs": [
    {
     "name": "stdout",
     "output_type": "stream",
     "text": [
      "0.817164179104\n"
     ]
    }
   ],
   "source": [
    "print(grid_search.score(x_te,y_te))"
   ]
  },
  {
   "cell_type": "code",
   "execution_count": 26,
   "metadata": {
    "collapsed": false
   },
   "outputs": [
    {
     "name": "stdout",
     "output_type": "stream",
     "text": [
      "RandomizedSearchCV took 19.80 seconds for 20 candidates parameter settings.\n",
      "Model with rank: 1\n",
      "Mean validation score: 0.817 (std: 0.014)\n",
      "Parameters: {'min_samples_split': 5, 'n_estimators': 100, 'criterion': 'gini', 'max_depth': 6.0, 'max_features': 2}\n",
      "\n",
      "Model with rank: 2\n",
      "Mean validation score: 0.814 (std: 0.008)\n",
      "Parameters: {'min_samples_split': 12, 'n_estimators': 250, 'criterion': 'gini', 'max_depth': 6.0, 'max_features': 4}\n",
      "\n",
      "Model with rank: 3\n",
      "Mean validation score: 0.812 (std: 0.023)\n",
      "Parameters: {'min_samples_split': 5, 'n_estimators': 250, 'criterion': 'entropy', 'max_depth': 3.0, 'max_features': 6}\n",
      "\n",
      "Model with rank: 3\n",
      "Mean validation score: 0.812 (std: 0.032)\n",
      "Parameters: {'min_samples_split': 10, 'n_estimators': 100, 'criterion': 'entropy', 'max_depth': 3.0, 'max_features': 2}\n",
      "\n",
      "Model with rank: 3\n",
      "Mean validation score: 0.812 (std: 0.010)\n",
      "Parameters: {'min_samples_split': 10, 'n_estimators': 500, 'criterion': 'gini', 'max_depth': 4.0, 'max_features': 5}\n",
      "\n",
      "Model with rank: 3\n",
      "Mean validation score: 0.812 (std: 0.010)\n",
      "Parameters: {'min_samples_split': 8, 'n_estimators': 250, 'criterion': 'gini', 'max_depth': 5.0, 'max_features': 3}\n",
      "\n"
     ]
    }
   ],
   "source": [
    "random_test1 = { \"n_estimators\"      : [100,250,500],\n",
    "                 \"criterion\"         : [\"gini\", \"entropy\"],\n",
    "                 \"max_features\"      : np.rint(np.linspace(sqrtfeat/2, sqrtfeat*2, 5)).astype(int),\n",
    "                 \"max_depth\"         : np.rint(np.linspace(1, x_tr.shape[1]/2, 10)),\n",
    "                 \"min_samples_split\" : np.rint(np.linspace(2, x_tr.shape[0]/50, 10)).astype(int) }\n",
    "\n",
    "n_iter_search = 20\n",
    "random_search = RandomizedSearchCV(forest, param_distributions=random_test1,\n",
    "                                   n_iter=n_iter_search)\n",
    "start = time()\n",
    "random_search.fit(x_tr, y_tr)\n",
    "print(\"RandomizedSearchCV took %.2f seconds for %d candidates\"\n",
    "      \" parameter settings.\" % ((time() - start), n_iter_search))\n",
    "report(random_search.cv_results_)"
   ]
  },
  {
   "cell_type": "code",
   "execution_count": 27,
   "metadata": {
    "collapsed": false
   },
   "outputs": [
    {
     "name": "stdout",
     "output_type": "stream",
     "text": [
      "0.813432835821\n"
     ]
    }
   ],
   "source": [
    "print(random_search.score(x_te,y_te))"
   ]
  },
  {
   "cell_type": "code",
   "execution_count": 28,
   "metadata": {
    "collapsed": false
   },
   "outputs": [
    {
     "name": "stdout",
     "output_type": "stream",
     "text": [
      "             precision    recall  f1-score   support\n",
      "\n",
      "          0       0.85      0.86      0.86       168\n",
      "          1       0.76      0.74      0.75       100\n",
      "\n",
      "avg / total       0.82      0.82      0.82       268\n",
      "\n"
     ]
    }
   ],
   "source": [
    "from sklearn.metrics import classification_report\n",
    "print(classification_report(y_te,grid_search.predict(x_te)))"
   ]
  },
  {
   "cell_type": "code",
   "execution_count": 29,
   "metadata": {
    "collapsed": false
   },
   "outputs": [
    {
     "name": "stdout",
     "output_type": "stream",
     "text": [
      "             precision    recall  f1-score   support\n",
      "\n",
      "          0       0.85      0.85      0.85       168\n",
      "          1       0.75      0.75      0.75       100\n",
      "\n",
      "avg / total       0.81      0.81      0.81       268\n",
      "\n"
     ]
    }
   ],
   "source": [
    "print(classification_report(y_te,random_search.predict(x_te)))"
   ]
  },
  {
   "cell_type": "markdown",
   "metadata": {},
   "source": [
    "### learning curve"
   ]
  },
  {
   "cell_type": "code",
   "execution_count": 30,
   "metadata": {
    "collapsed": false
   },
   "outputs": [],
   "source": [
    "from sklearn.model_selection import learning_curve"
   ]
  },
  {
   "cell_type": "code",
   "execution_count": 31,
   "metadata": {
    "collapsed": false
   },
   "outputs": [
    {
     "data": {
      "image/png": "[encoded data removed]",
      "text/plain": [
       "<matplotlib.figure.Figure at 0x1274828>"
      ]
     },
     "metadata": {},
     "output_type": "display_data"
    }
   ],
   "source": [
    "import matplotlib.pyplot as plt\n",
    "from sklearn.model_selection import learning_curve\n",
    " \n",
    "# assume classifier and training data is prepared...\n",
    " \n",
    "train_sizes, train_scores, test_scores = learning_curve(\n",
    "        forest, x_tr, y_tr, cv=10, n_jobs=-1, train_sizes=np.linspace(.1, 1., 10), verbose=0)\n",
    " \n",
    "train_scores_mean = np.mean(train_scores, axis=1)\n",
    "train_scores_std = np.std(train_scores, axis=1)\n",
    "test_scores_mean = np.mean(test_scores, axis=1)\n",
    "test_scores_std = np.std(test_scores, axis=1)\n",
    " \n",
    "plt.figure()\n",
    "plt.title(\"RandomForestClassifier\")\n",
    "plt.xlabel(\"Training examples\")\n",
    "plt.ylabel(\"Score\")\n",
    "plt.ylim((0.6, 1.01))\n",
    "plt.grid()\n",
    "plt.gca().invert_yaxis() \n",
    "# Plot the average training and test score lines at each training set size\n",
    "plt.plot(train_sizes, train_scores_mean, 'o-', color=\"b\", label=\"Training score\")\n",
    "plt.plot(train_sizes, test_scores_mean, 'o-', color=\"r\", label=\"Test score\")\n",
    "plt.legend(loc=\"best\")\n",
    "# Plot the std deviation as a transparent range at each training set size\n",
    "plt.fill_between(train_sizes, train_scores_mean - train_scores_std, train_scores_mean + train_scores_std, \n",
    "                 alpha=0.1, color=\"b\")\n",
    "plt.fill_between(train_sizes, test_scores_mean - test_scores_std, test_scores_mean + test_scores_std, \n",
    "                 alpha=0.1, color=\"r\")\n",
    "plt.gca().invert_yaxis() \n",
    "\n"
   ]
  },
  {
   "cell_type": "code",
   "execution_count": 32,
   "metadata": {
    "collapsed": false
   },
   "outputs": [
    {
     "data": {
      "image/png": "[encoded data removed]",
      "text/plain": [
       "<matplotlib.figure.Figure at 0x1274828>"
      ]
     },
     "metadata": {},
     "output_type": "display_data"
    }
   ],
   "source": [
    "train_sizes, train_scores, test_scores = learning_curve(\n",
    "        forest, x_tr, y_tr, cv=10, n_jobs=-1, train_sizes=np.linspace(.01, 1., 100), verbose=0)\n",
    " \n",
    "train_scores_mean = np.mean(train_scores, axis=1)\n",
    "train_scores_std = np.std(train_scores, axis=1)\n",
    "test_scores_mean = np.mean(test_scores, axis=1)\n",
    "test_scores_std = np.std(test_scores, axis=1)\n",
    " \n",
    "plt.figure()\n",
    "plt.title(\"RandomForestClassifier\")\n",
    "plt.xlabel(\"Training examples\")\n",
    "plt.ylabel(\"Score\")\n",
    "plt.ylim((0.6, 1.01))\n",
    "plt.grid()\n",
    "plt.gca().invert_yaxis() \n",
    "# Plot the average training and test score lines at each training set size\n",
    "plt.plot(train_sizes, train_scores_mean, 'o-', color=\"b\", label=\"Training score\")\n",
    "plt.plot(train_sizes, test_scores_mean, 'o-', color=\"r\", label=\"Test score\")\n",
    "plt.legend(loc=\"best\")\n",
    "# Plot the std deviation as a transparent range at each training set size\n",
    "plt.fill_between(train_sizes, train_scores_mean - train_scores_std, train_scores_mean + train_scores_std, \n",
    "                 alpha=0.1, color=\"b\")\n",
    "plt.fill_between(train_sizes, test_scores_mean - test_scores_std, test_scores_mean + test_scores_std, \n",
    "                 alpha=0.1, color=\"r\")\n",
    "plt.gca().invert_yaxis() \n"
   ]
  },
  {
   "cell_type": "markdown",
   "metadata": {},
   "source": [
    "### roc"
   ]
  },
  {
   "cell_type": "code",
   "execution_count": 33,
   "metadata": {
    "collapsed": false
   },
   "outputs": [
    {
     "name": "stdout",
     "output_type": "stream",
     "text": [
      "ROC AUC: 0.83\n"
     ]
    },
    {
     "name": "stderr",
     "output_type": "stream",
     "text": [
      "C:\\Users\\j7jiang\\AppData\\Local\\Continuum\\Anaconda2\\envs\\py35\\lib\\site-packages\\sklearn\\ensemble\\forest.py:439: UserWarning: Some inputs do not have OOB scores. This probably means too few trees were used to compute any reliable oob estimates.\n",
      "  warn(\"Some inputs do not have OOB scores. \"\n"
     ]
    },
    {
     "data": {
      "text/plain": [
       "<matplotlib.legend.Legend at 0xc461da0>"
      ]
     },
     "execution_count": 33,
     "metadata": {},
     "output_type": "execute_result"
    },
    {
     "data": {
      "image/png": "[encoded data removed]",
      "text/plain": [
       "<matplotlib.figure.Figure at 0xc90e5f8>"
      ]
     },
     "metadata": {},
     "output_type": "display_data"
    }
   ],
   "source": [
    "from sklearn.metrics import roc_curve, auc\n",
    " \n",
    "# shuffle and split training and test sets\n",
    "X_train, X_test, y_train, y_test = train_test_split(x_tr, y_tr, test_size=.1)\n",
    "forest.fit(X_train, y_train)\n",
    " \n",
    "# Determine the false positive and true positive rates\n",
    "fpr, tpr, _ = roc_curve(y_test, forest.predict_proba(X_test)[:,1])\n",
    " \n",
    "# Calculate the AUC\n",
    "roc_auc = auc(fpr, tpr)\n",
    "print('ROC AUC: %0.2f' % roc_auc)\n",
    " \n",
    "# Plot of a ROC curve for a specific class\n",
    "plt.figure()\n",
    "plt.plot(fpr, tpr, label='ROC curve (area = %0.2f)' % roc_auc)\n",
    "plt.plot([0, 1], [0, 1], 'k--')\n",
    "plt.xlim([0.0, 1.0])\n",
    "plt.ylim([0.0, 1.05])\n",
    "plt.xlabel('False Positive Rate')\n",
    "plt.ylabel('True Positive Rate')\n",
    "plt.title('ROC Curve')\n",
    "plt.legend(loc=\"lower right\")"
   ]
  },
  {
   "cell_type": "markdown",
   "metadata": {},
   "source": [
    "## stacking"
   ]
  },
  {
   "cell_type": "code",
   "execution_count": 34,
   "metadata": {
    "collapsed": false
   },
   "outputs": [
    {
     "name": "stdout",
     "output_type": "stream",
     "text": [
      "0.817164179104\n"
     ]
    }
   ],
   "source": [
    "from sklearn.ensemble import VotingClassifier  \n",
    "model=VotingClassifier(estimators=[('lr',lr),('svc',svc),('rf',randomf),('GDBT',gdbt)],voting='hard',weights=[0.5,1.5,0.6,0.6])  \n",
    "model.fit(x_tr,y_tr)  \n",
    "print(model.score(x_te,y_te))"
   ]
  },
  {
   "cell_type": "markdown",
   "metadata": {},
   "source": [
    "在船的左舷，救生船只载妇女和儿童。在右舷，则是妇女优先逃生之后允许男性登艇。所以，在右舷获救的人数比在左舷获救的多"
   ]
  },
  {
   "cell_type": "markdown",
   "metadata": {
    "collapsed": true
   },
   "source": [
    "## 预测"
   ]
  },
  {
   "cell_type": "code",
   "execution_count": 268,
   "metadata": {
    "collapsed": false
   },
   "outputs": [
    {
     "name": "stderr",
     "output_type": "stream",
     "text": [
      "C:\\Anaconda\\envs\\py35\\lib\\site-packages\\ipykernel\\__main__.py:26: FutureWarning: reshape is deprecated and will raise in a subsequent release. Please use .values.reshape(...) instead\n",
      "C:\\Anaconda\\envs\\py35\\lib\\site-packages\\ipykernel\\__main__.py:27: FutureWarning: reshape is deprecated and will raise in a subsequent release. Please use .values.reshape(...) instead\n",
      "C:\\Anaconda\\envs\\py35\\lib\\site-packages\\sklearn\\utils\\validation.py:429: DataConversionWarning: Data with input dtype int64 was converted to float64 by StandardScaler.\n",
      "  warnings.warn(msg, _DataConversionWarning)\n",
      "C:\\Anaconda\\envs\\py35\\lib\\site-packages\\ipykernel\\__main__.py:28: FutureWarning: reshape is deprecated and will raise in a subsequent release. Please use .values.reshape(...) instead\n",
      "C:\\Anaconda\\envs\\py35\\lib\\site-packages\\ipykernel\\__main__.py:34: FutureWarning: reshape is deprecated and will raise in a subsequent release. Please use .values.reshape(...) instead\n"
     ]
    }
   ],
   "source": [
    "#预测数据  \n",
    "data_test=pd.read_csv('../data/test.csv')  \n",
    "data_test.drop(['Ticket'],axis=1,inplace=True)  \n",
    "data_test.loc[data_test.Embarked.isnull(),'Embarked']='S'  \n",
    "Sex_label_test=le_sex.transform(data_test['Sex'])  \n",
    "Sex_ohe_test=ohe_sex.transform(Sex_label_test.reshape(-1,1))  \n",
    "Embarked_label_test=le_embarked.transform(data_test['Embarked'])  \n",
    "Embarked_ohe_test=ohe_embarked.transform(Embarked_label_test.reshape(-1,1))  \n",
    "data_test['Name']=data_test['Name'].map(lambda x:replace_name(x))  \n",
    "Name_label_test=le_name.transform(data_test['Name'])  \n",
    "Name_ohe_test=ohe_name.transform(Name_label_test.reshape(-1,1))  \n",
    "data_test['Sex_0']=Sex_ohe_test[:,0]  \n",
    "data_test['Sex_1']=Sex_ohe_test[:,1]  \n",
    "data_test['Embarked_0']=Embarked_ohe_test[:,0]  \n",
    "data_test['Embarked_1']=Embarked_ohe_test[:,1]  \n",
    "data_test['Embarked_2']=Embarked_ohe_test[:,2]  \n",
    "data_test['Name_0']=Name_ohe_test[:,0]  \n",
    "data_test['Name_1']=Name_ohe_test[:,1]  \n",
    "data_test['Name_2']=Name_ohe_test[:,2]  \n",
    "oh_pclass=OneHotEncoder(sparse=False).fit(data_test['Pclass'].values.reshape(-1,1))\n",
    "class_ohe=oh_pclass.transform(data_test['Pclass'].values.reshape(-1,1))\n",
    "data_test['Pclass_0']=class_ohe[:,0]\n",
    "data_test['Pclass_1']=class_ohe[:,1]\n",
    "data_test['Pclass_2']=class_ohe[:,2]\n",
    "data_test.loc[data_test.Fare.isnull(),'Fare']=0  \n",
    "data_test['Fare_scaled']=StandardScaler().fit_transform(data_test['Fare'].values.reshape(-1,1),Fare_scale)  \n",
    "data_test['SibSp_scaled']=StandardScaler().fit_transform(data_test['SibSp'].values.reshape(-1,1),SibSp_scale)  \n",
    "data_test['Parch_scaled']=StandardScaler().fit_transform(data_test['Parch'].values.reshape(-1,1),Parch_scale)  \n",
    "train_test=data_test[['Age','SibSp_scaled','Parch_scaled','Name_0','Name_1','Name_2','Sex_0','Sex_1','Pclass_0','Pclass_1','Pclass_2']]  \n",
    "unknown_age_test=train_test[train_test.Age.isnull()].as_matrix()  \n",
    "x_test=unknown_age_test[:,1:]  \n",
    "predictage=rf.predict(x_test)  \n",
    "data_test.loc[data_test.Age.isnull(),'Age']=predictage  \n",
    "data_test['Age_scaled']=StandardScaler().fit_transform(data_test['Age'].reshape(-1,1))  \n",
    "test_x=data_test[['Sex_0','Sex_1','Embarked_0','Embarked_1','Embarked_2','Name_0','Name_1','Name_2',\n",
    "                  'Pclass_0','Pclass_1','Pclass_2','Age_scaled','Fare_scaled','SibSp_scaled']].as_matrix()  \n",
    "predictions=grid_search.predict(test_x).astype(np.int32)\n",
    "result=pd.DataFrame({'PassengerId':data_test['PassengerId'].as_matrix(),'Survived':predictions})  \n",
    "result.to_csv('results.csv',index=False)  "
   ]
  },
  {
   "cell_type": "markdown",
   "metadata": {},
   "source": [
    "## 意料之外"
   ]
  },
  {
   "cell_type": "code",
   "execution_count": 35,
   "metadata": {
    "collapsed": false
   },
   "outputs": [],
   "source": [
    "mask=grid_search.predict(train_x[:,:-1])!=train_y"
   ]
  },
  {
   "cell_type": "code",
   "execution_count": 36,
   "metadata": {
    "collapsed": true
   },
   "outputs": [],
   "source": [
    "o_data=pd.read_csv('../data/train.csv')"
   ]
  },
  {
   "cell_type": "code",
   "execution_count": 37,
   "metadata": {
    "collapsed": false
   },
   "outputs": [
    {
     "data": {
      "text/plain": [
       "(140, 12)"
      ]
     },
     "execution_count": 37,
     "metadata": {},
     "output_type": "execute_result"
    }
   ],
   "source": [
    "o_data[mask].shape"
   ]
  },
  {
   "cell_type": "code",
   "execution_count": 38,
   "metadata": {
    "collapsed": false
   },
   "outputs": [],
   "source": [
    "wrong=o_data[mask]"
   ]
  },
  {
   "cell_type": "code",
   "execution_count": 39,
   "metadata": {
    "collapsed": false
   },
   "outputs": [],
   "source": [
    "wrong_p1=wrong[wrong['Pclass']==1]"
   ]
  },
  {
   "cell_type": "code",
   "execution_count": 40,
   "metadata": {
    "collapsed": false
   },
   "outputs": [
    {
     "data": {
      "text/html": [
       "<div>\n",
       "<table border=\"1\" class=\"dataframe\">\n",
       "  <thead>\n",
       "    <tr style=\"text-align: right;\">\n",
       "      <th></th>\n",
       "      <th>PassengerId</th>\n",
       "      <th>Survived</th>\n",
       "      <th>Pclass</th>\n",
       "      <th>Name</th>\n",
       "      <th>Sex</th>\n",
       "      <th>Age</th>\n",
       "      <th>SibSp</th>\n",
       "      <th>Parch</th>\n",
       "      <th>Ticket</th>\n",
       "      <th>Fare</th>\n",
       "      <th>Cabin</th>\n",
       "      <th>Embarked</th>\n",
       "    </tr>\n",
       "  </thead>\n",
       "  <tbody>\n",
       "    <tr>\n",
       "      <th>177</th>\n",
       "      <td>178</td>\n",
       "      <td>0</td>\n",
       "      <td>1</td>\n",
       "      <td>Isham, Miss. Ann Elizabeth</td>\n",
       "      <td>female</td>\n",
       "      <td>50.0</td>\n",
       "      <td>0</td>\n",
       "      <td>0</td>\n",
       "      <td>PC 17595</td>\n",
       "      <td>28.7125</td>\n",
       "      <td>C49</td>\n",
       "      <td>C</td>\n",
       "    </tr>\n",
       "    <tr>\n",
       "      <th>297</th>\n",
       "      <td>298</td>\n",
       "      <td>0</td>\n",
       "      <td>1</td>\n",
       "      <td>Allison, Miss. Helen Loraine</td>\n",
       "      <td>female</td>\n",
       "      <td>2.0</td>\n",
       "      <td>1</td>\n",
       "      <td>2</td>\n",
       "      <td>113781</td>\n",
       "      <td>151.5500</td>\n",
       "      <td>C22 C26</td>\n",
       "      <td>S</td>\n",
       "    </tr>\n",
       "    <tr>\n",
       "      <th>498</th>\n",
       "      <td>499</td>\n",
       "      <td>0</td>\n",
       "      <td>1</td>\n",
       "      <td>Allison, Mrs. Hudson J C (Bessie Waldo Daniels)</td>\n",
       "      <td>female</td>\n",
       "      <td>25.0</td>\n",
       "      <td>1</td>\n",
       "      <td>2</td>\n",
       "      <td>113781</td>\n",
       "      <td>151.5500</td>\n",
       "      <td>C22 C26</td>\n",
       "      <td>S</td>\n",
       "    </tr>\n",
       "  </tbody>\n",
       "</table>\n",
       "</div>"
      ],
      "text/plain": [
       "     PassengerId  Survived  Pclass  \\\n",
       "177          178         0       1   \n",
       "297          298         0       1   \n",
       "498          499         0       1   \n",
       "\n",
       "                                                Name     Sex   Age  SibSp  \\\n",
       "177                       Isham, Miss. Ann Elizabeth  female  50.0      0   \n",
       "297                     Allison, Miss. Helen Loraine  female   2.0      1   \n",
       "498  Allison, Mrs. Hudson J C (Bessie Waldo Daniels)  female  25.0      1   \n",
       "\n",
       "     Parch    Ticket      Fare    Cabin Embarked  \n",
       "177      0  PC 17595   28.7125      C49        C  \n",
       "297      2    113781  151.5500  C22 C26        S  \n",
       "498      2    113781  151.5500  C22 C26        S  "
      ]
     },
     "execution_count": 40,
     "metadata": {},
     "output_type": "execute_result"
    }
   ],
   "source": [
    "wrong_p1[wrong_p1['Sex']=='female']"
   ]
  },
  {
   "cell_type": "markdown",
   "metadata": {},
   "source": [
    "https://www.encyclopedia-titanica.org/titanic-first-class-passengers/\n",
    "![](./img/allison.jpg)\n",
    "\n",
    "去找儿子Trevor了!\n"
   ]
  },
  {
   "cell_type": "markdown",
   "metadata": {},
   "source": [
    "预测结果里面，passengerId=1094的Astor, Col. John Jacob会生还\n",
    "![](./img/astor.jpg)"
   ]
  },
  {
   "cell_type": "markdown",
   "metadata": {
    "collapsed": false
   },
   "source": [
    "预测 949\t3\tAbelseth, Mr. Olaus Jorgensen\tmale\t25\t0\t0\t348122\t7.65 没有生还\n",
    "![](./img/olaus.jpg)\n",
    "\n",
    "船沉了后他在冰冷的水里游了20分钟！！！然后爬上了幸存者的船"
   ]
  },
  {
   "cell_type": "code",
   "execution_count": null,
   "metadata": {
    "collapsed": true
   },
   "outputs": [],
   "source": []
  }
 ],
 "metadata": {
  "kernelspec": {
   "display_name": "Python [default]",
   "language": "python",
   "name": "python3"
  },
  "language_info": {
   "codemirror_mode": {
    "name": "ipython",
    "version": 3
   },
   "file_extension": ".py",
   "mimetype": "text/x-python",
   "name": "python",
   "nbconvert_exporter": "python",
   "pygments_lexer": "ipython3",
   "version": "3.5.2"
  }
 },
 "nbformat": 4,
 "nbformat_minor": 0
}
